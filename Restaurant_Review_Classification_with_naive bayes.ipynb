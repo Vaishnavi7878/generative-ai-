{
 "cells": [
  {
   "cell_type": "code",
   "execution_count": 42,
   "id": "dc5ad453-5f23-41d6-a2a4-4a9dbeffc143",
   "metadata": {},
   "outputs": [],
   "source": [
    "#step1\n",
    "#IMPORTING THE LIBRARIES\n",
    "import pandas as pd \n",
    "import numpy as np \n",
    "import matplotlib.pyplot as plt "
   ]
  },
  {
   "cell_type": "code",
   "execution_count": 43,
   "id": "f66a7732-bd6d-44c6-a5ad-fb16724a1fe2",
   "metadata": {},
   "outputs": [
    {
     "name": "stderr",
     "output_type": "stream",
     "text": [
      "C:\\Users\\Lenovo india\\AppData\\Local\\Temp\\ipykernel_16636\\2591638658.py:3: ParserWarning: Falling back to the 'python' engine because the 'c' engine does not support regex separators (separators > 1 char and different from '\\s+' are interpreted as regex); you can avoid this warning by specifying engine='python'.\n",
      "  data = pd.read_csv(\"Restaurant_Reviews (2) (1).tsv\",sep='/t',quoting=3)\n"
     ]
    }
   ],
   "source": [
    "#step2\n",
    "#importing the dataset\n",
    "data = pd.read_csv(\"Restaurant_Reviews (2) (1).tsv\",sep='/t',quoting=3)\n",
    "# quoting parametr will avoid any "
   ]
  },
  {
   "cell_type": "code",
   "execution_count": 44,
   "id": "0cf82c8a-e4fb-4304-9d57-a8840e44a014",
   "metadata": {},
   "outputs": [
    {
     "data": {
      "text/html": [
       "<div>\n",
       "<style scoped>\n",
       "    .dataframe tbody tr th:only-of-type {\n",
       "        vertical-align: middle;\n",
       "    }\n",
       "\n",
       "    .dataframe tbody tr th {\n",
       "        vertical-align: top;\n",
       "    }\n",
       "\n",
       "    .dataframe thead th {\n",
       "        text-align: right;\n",
       "    }\n",
       "</style>\n",
       "<table border=\"1\" class=\"dataframe\">\n",
       "  <thead>\n",
       "    <tr style=\"text-align: right;\">\n",
       "      <th></th>\n",
       "      <th>Review\\tLiked</th>\n",
       "    </tr>\n",
       "  </thead>\n",
       "  <tbody>\n",
       "    <tr>\n",
       "      <th>0</th>\n",
       "      <td>Wow... Loved this place.\\t1</td>\n",
       "    </tr>\n",
       "    <tr>\n",
       "      <th>1</th>\n",
       "      <td>Crust is not good.\\t0</td>\n",
       "    </tr>\n",
       "    <tr>\n",
       "      <th>2</th>\n",
       "      <td>Not tasty and the texture was just nasty.\\t0</td>\n",
       "    </tr>\n",
       "    <tr>\n",
       "      <th>3</th>\n",
       "      <td>Stopped by during the late May bank holiday of...</td>\n",
       "    </tr>\n",
       "    <tr>\n",
       "      <th>4</th>\n",
       "      <td>The selection on the menu was great and so wer...</td>\n",
       "    </tr>\n",
       "  </tbody>\n",
       "</table>\n",
       "</div>"
      ],
      "text/plain": [
       "                                       Review\\tLiked\n",
       "0                        Wow... Loved this place.\\t1\n",
       "1                              Crust is not good.\\t0\n",
       "2       Not tasty and the texture was just nasty.\\t0\n",
       "3  Stopped by during the late May bank holiday of...\n",
       "4  The selection on the menu was great and so wer..."
      ]
     },
     "execution_count": 44,
     "metadata": {},
     "output_type": "execute_result"
    }
   ],
   "source": [
    "data.head()"
   ]
  },
  {
   "cell_type": "code",
   "execution_count": 45,
   "id": "a8f6aabe-bbd7-44e3-8317-fa0f79bf0e3d",
   "metadata": {},
   "outputs": [
    {
     "data": {
      "text/html": [
       "<div>\n",
       "<style scoped>\n",
       "    .dataframe tbody tr th:only-of-type {\n",
       "        vertical-align: middle;\n",
       "    }\n",
       "\n",
       "    .dataframe tbody tr th {\n",
       "        vertical-align: top;\n",
       "    }\n",
       "\n",
       "    .dataframe thead th {\n",
       "        text-align: right;\n",
       "    }\n",
       "</style>\n",
       "<table border=\"1\" class=\"dataframe\">\n",
       "  <thead>\n",
       "    <tr style=\"text-align: right;\">\n",
       "      <th></th>\n",
       "      <th>Review\\tLiked</th>\n",
       "    </tr>\n",
       "  </thead>\n",
       "  <tbody>\n",
       "    <tr>\n",
       "      <th>995</th>\n",
       "      <td>I think food should have flavor and texture an...</td>\n",
       "    </tr>\n",
       "    <tr>\n",
       "      <th>996</th>\n",
       "      <td>Appetite instantly gone.\\t0</td>\n",
       "    </tr>\n",
       "    <tr>\n",
       "      <th>997</th>\n",
       "      <td>Overall I was not impressed and would not go b...</td>\n",
       "    </tr>\n",
       "    <tr>\n",
       "      <th>998</th>\n",
       "      <td>The whole experience was underwhelming, and I ...</td>\n",
       "    </tr>\n",
       "    <tr>\n",
       "      <th>999</th>\n",
       "      <td>Then, as if I hadn't wasted enough of my life ...</td>\n",
       "    </tr>\n",
       "  </tbody>\n",
       "</table>\n",
       "</div>"
      ],
      "text/plain": [
       "                                         Review\\tLiked\n",
       "995  I think food should have flavor and texture an...\n",
       "996                        Appetite instantly gone.\\t0\n",
       "997  Overall I was not impressed and would not go b...\n",
       "998  The whole experience was underwhelming, and I ...\n",
       "999  Then, as if I hadn't wasted enough of my life ..."
      ]
     },
     "execution_count": 45,
     "metadata": {},
     "output_type": "execute_result"
    }
   ],
   "source": [
    "data.tail()"
   ]
  },
  {
   "cell_type": "code",
   "execution_count": 46,
   "id": "cb7b2020-d430-45b5-a21d-672a9d0a43c0",
   "metadata": {},
   "outputs": [
    {
     "data": {
      "text/plain": [
       "<bound method DataFrame.info of                                          Review\\tLiked\n",
       "0                          Wow... Loved this place.\\t1\n",
       "1                                Crust is not good.\\t0\n",
       "2         Not tasty and the texture was just nasty.\\t0\n",
       "3    Stopped by during the late May bank holiday of...\n",
       "4    The selection on the menu was great and so wer...\n",
       "..                                                 ...\n",
       "995  I think food should have flavor and texture an...\n",
       "996                        Appetite instantly gone.\\t0\n",
       "997  Overall I was not impressed and would not go b...\n",
       "998  The whole experience was underwhelming, and I ...\n",
       "999  Then, as if I hadn't wasted enough of my life ...\n",
       "\n",
       "[1000 rows x 1 columns]>"
      ]
     },
     "execution_count": 46,
     "metadata": {},
     "output_type": "execute_result"
    }
   ],
   "source": [
    "data.info"
   ]
  },
  {
   "cell_type": "code",
   "execution_count": 47,
   "id": "88fe46c0-f8cd-4a12-88fa-60a3022ef6f9",
   "metadata": {},
   "outputs": [
    {
     "data": {
      "text/plain": [
       "(1000, 1)"
      ]
     },
     "execution_count": 47,
     "metadata": {},
     "output_type": "execute_result"
    }
   ],
   "source": [
    "data.shape"
   ]
  },
  {
   "cell_type": "code",
   "execution_count": 48,
   "id": "c49e4f00-e385-47fb-ae37-eb2743c61a61",
   "metadata": {},
   "outputs": [
    {
     "data": {
      "text/plain": [
       "Review\\tLiked    0\n",
       "dtype: int64"
      ]
     },
     "execution_count": 48,
     "metadata": {},
     "output_type": "execute_result"
    }
   ],
   "source": [
    "data.isnull().sum()"
   ]
  },
  {
   "cell_type": "code",
   "execution_count": 49,
   "id": "49c8914a-97de-4002-8bb8-afa33b4517f6",
   "metadata": {},
   "outputs": [
    {
     "data": {
      "text/plain": [
       "Review\\tLiked    object\n",
       "dtype: object"
      ]
     },
     "execution_count": 49,
     "metadata": {},
     "output_type": "execute_result"
    }
   ],
   "source": [
    "data.dtypes"
   ]
  },
  {
   "cell_type": "code",
   "execution_count": 50,
   "id": "6dbbeea3-82eb-49fd-9c56-a030e606a9f3",
   "metadata": {},
   "outputs": [
    {
     "data": {
      "text/html": [
       "<div>\n",
       "<style scoped>\n",
       "    .dataframe tbody tr th:only-of-type {\n",
       "        vertical-align: middle;\n",
       "    }\n",
       "\n",
       "    .dataframe tbody tr th {\n",
       "        vertical-align: top;\n",
       "    }\n",
       "\n",
       "    .dataframe thead th {\n",
       "        text-align: right;\n",
       "    }\n",
       "</style>\n",
       "<table border=\"1\" class=\"dataframe\">\n",
       "  <thead>\n",
       "    <tr style=\"text-align: right;\">\n",
       "      <th></th>\n",
       "      <th>Review\\tLiked</th>\n",
       "    </tr>\n",
       "  </thead>\n",
       "  <tbody>\n",
       "    <tr>\n",
       "      <th>count</th>\n",
       "      <td>1000</td>\n",
       "    </tr>\n",
       "    <tr>\n",
       "      <th>unique</th>\n",
       "      <td>996</td>\n",
       "    </tr>\n",
       "    <tr>\n",
       "      <th>top</th>\n",
       "      <td>I would not recommend this place.\\t0</td>\n",
       "    </tr>\n",
       "    <tr>\n",
       "      <th>freq</th>\n",
       "      <td>2</td>\n",
       "    </tr>\n",
       "  </tbody>\n",
       "</table>\n",
       "</div>"
      ],
      "text/plain": [
       "                               Review\\tLiked\n",
       "count                                   1000\n",
       "unique                                   996\n",
       "top     I would not recommend this place.\\t0\n",
       "freq                                       2"
      ]
     },
     "execution_count": 50,
     "metadata": {},
     "output_type": "execute_result"
    }
   ],
   "source": [
    "data.describe()"
   ]
  },
  {
   "cell_type": "code",
   "execution_count": 83,
   "id": "e6e9fb32-e9ae-411e-9d3d-4ea8e731a9cc",
   "metadata": {},
   "outputs": [],
   "source": [
    "# Step 3\n"
   ]
  },
  {
   "cell_type": "markdown",
   "id": "b0d50343-4275-4120-95df-26479a8f2d58",
   "metadata": {},
   "source": [
    "# Text Cleaning\n"
   ]
  },
  {
   "cell_type": "markdown",
   "id": "41abd22d-291c-4223-a10b-e3802666f09f",
   "metadata": {},
   "source": [
    "Remove number and punchuations "
   ]
  },
  {
   "cell_type": "code",
   "execution_count": 85,
   "id": "8cb9ae53-2b4c-4356-95fb-fe275438d49c",
   "metadata": {},
   "outputs": [
    {
     "name": "stderr",
     "output_type": "stream",
     "text": [
      "[nltk_data] Downloading package stopwords to C:\\Users\\Lenovo\n",
      "[nltk_data]     india\\AppData\\Roaming\\nltk_data...\n",
      "[nltk_data]   Package stopwords is already up-to-date!\n"
     ]
    }
   ],
   "source": [
    "import re #regular expression library \n",
    "import nltk \n",
    "nltk.download('stopwords')\n",
    "from nltk.corpus import stopwords \n",
    "from nltk.stem.porter import PorterStemmer "
   ]
  },
  {
   "cell_type": "code",
   "execution_count": null,
   "id": "c08d5fea-43b2-4e06-8d42-fe295c4b69cf",
   "metadata": {},
   "outputs": [],
   "source": [
    "# we will apply the steps of cleaning process to first review \n",
    "# and then we will apply same to all review using for loop \n"
   ]
  },
  {
   "cell_type": "code",
   "execution_count": 86,
   "id": "c58eb1bd-1777-4bd1-9a43-7dd99c3f1969",
   "metadata": {},
   "outputs": [
    {
     "data": {
      "text/plain": [
       "'Wow... Loved this place.\\t1'"
      ]
     },
     "execution_count": 86,
     "metadata": {},
     "output_type": "execute_result"
    }
   ],
   "source": [
    "data['Review\\tLiked'][0]  #first view \n"
   ]
  },
  {
   "cell_type": "code",
   "execution_count": 89,
   "id": "c80e1d10-9ea9-4a29-90d9-fe34007c313e",
   "metadata": {},
   "outputs": [],
   "source": [
    "Review = re.sub('[^a-zA-Z]','',data['Review\\tLiked'][0])\n",
    "# only keeping the lettrer in the review.that means we will remove numbers,punctuations ,etc.\n",
    "# we are keeping all the smallcase and uppercase letters\n",
    "# data['review'][0]----our first review"
   ]
  },
  {
   "cell_type": "code",
   "execution_count": 91,
   "id": "b413ad8b-a8f7-4e51-b71a-15518369628c",
   "metadata": {},
   "outputs": [
    {
     "name": "stdout",
     "output_type": "stream",
     "text": [
      "WowLovedthisplace\n"
     ]
    }
   ],
   "source": [
    "print(Review)"
   ]
  },
  {
   "cell_type": "markdown",
   "id": "f1ae5551-fba6-4311-a1b3-43b0f297f13e",
   "metadata": {},
   "source": [
    "Convert all the letters in lowercase "
   ]
  },
  {
   "cell_type": "markdown",
   "id": "8597e238-efa7-4413-bba8-67c2ae5c5a42",
   "metadata": {},
   "source": [
    "Review = re.sub('[^a-zA-Z]','',data['Review\\tLiked'][0])\n",
    "Review = Review.lower()"
   ]
  },
  {
   "cell_type": "code",
   "execution_count": 93,
   "id": "17ee99f7-113c-42b9-a282-b23e3dab468d",
   "metadata": {},
   "outputs": [
    {
     "name": "stdout",
     "output_type": "stream",
     "text": [
      "WowLovedthisplace\n"
     ]
    }
   ],
   "source": [
    "print(Review)\n"
   ]
  },
  {
   "cell_type": "markdown",
   "id": "f64c21de-ab3d-4bc2-a420-0c68b8c3e214",
   "metadata": {},
   "source": [
    "Removing the stopwords"
   ]
  },
  {
   "cell_type": "code",
   "execution_count": null,
   "id": "4013da23-de2c-496c-a4d8-90d2d6b25396",
   "metadata": {},
   "outputs": [],
   "source": [
    "# stopwords are the words \n",
    "# that are non revelant in prediction wether a preview is positive or negative \n",
    "# e.g the,and,in,a "
   ]
  },
  {
   "cell_type": "code",
   "execution_count": null,
   "id": "d220e336-0f23-4a2f-8202-ac332429d0b7",
   "metadata": {},
   "outputs": [],
   "source": [
    "# to remove the stopwords we will use the for loop "
   ]
  },
  {
   "cell_type": "code",
   "execution_count": 95,
   "id": "2693ca69-4fb3-46d9-8d4f-4b91d40c466f",
   "metadata": {},
   "outputs": [],
   "source": [
    "Review= re.sub('[^a-zA-Z]',' ',data ['Review\\tLiked'][0])\n",
    "Review = Review.split()"
   ]
  },
  {
   "cell_type": "code",
   "execution_count": 97,
   "id": "335b0238-2aca-4787-865e-04ca2ec80508",
   "metadata": {},
   "outputs": [
    {
     "data": {
      "text/plain": [
       "['Wow', 'Loved', 'this', 'place']"
      ]
     },
     "execution_count": 97,
     "metadata": {},
     "output_type": "execute_result"
    }
   ],
   "source": [
    "Review"
   ]
  },
  {
   "cell_type": "code",
   "execution_count": 99,
   "id": "d2394665-a1c2-4523-afb5-8b0fcf433162",
   "metadata": {},
   "outputs": [],
   "source": [
    "Review = re.sub('[^a-zA-Z]','',data['Review\\tLiked'][0])\n",
    "Review = Review.lower()\n",
    "Review = Review.split()\n",
    "Review = [word for word in Review if not word in set (stopwords.words('english'))]"
   ]
  },
  {
   "cell_type": "code",
   "execution_count": 101,
   "id": "37530eb8-5619-49b3-8bb0-3d2bad69b7c8",
   "metadata": {},
   "outputs": [
    {
     "name": "stdout",
     "output_type": "stream",
     "text": [
      "['wowlovedthisplace']\n"
     ]
    }
   ],
   "source": [
    "print(Review)"
   ]
  },
  {
   "cell_type": "markdown",
   "id": "22f6c280-56be-4511-91df-83f50755ec31",
   "metadata": {},
   "source": [
    "Stemming"
   ]
  },
  {
   "cell_type": "code",
   "execution_count": 103,
   "id": "37ab743b-fa46-4323-b838-be9b16eb5dca",
   "metadata": {},
   "outputs": [],
   "source": [
    "Review = re.sub('[^a-zA-Z]','',data['Review\\tLiked'][0])\n",
    "Review = Review.lower()\n",
    "Review = Review.split()\n",
    "ps = PorterStemmer()\n",
    "Review = [ps.stem(words) for words in Review if not words in set(stopwords.words('english'))]"
   ]
  },
  {
   "cell_type": "code",
   "execution_count": 105,
   "id": "b1d8640f-0b79-4e2f-9eb6-b956fd6eaa6b",
   "metadata": {},
   "outputs": [
    {
     "name": "stdout",
     "output_type": "stream",
     "text": [
      "['wowlovedthisplac']\n"
     ]
    }
   ],
   "source": [
    "print (Review)"
   ]
  },
  {
   "cell_type": "markdown",
   "id": "8b295824-858a-4e1a-a75b-08ba66e41a95",
   "metadata": {},
   "source": [
    "Join the tokens"
   ]
  },
  {
   "cell_type": "code",
   "execution_count": 107,
   "id": "5d4564ea-2641-4b2d-be27-c24947879e15",
   "metadata": {},
   "outputs": [],
   "source": [
    "Review= re.sub('[^a-zA-Z]',' ', data['Review\\tLiked'][0])\n",
    "Review = Review.lower()\n",
    "Review = Review.split()\n",
    "ps = PorterStemmer()\n",
    "Review = [ps.stem(words) for words in Review if not words in set(stopwords.words('english'))]\n",
    "Review = ' '.join (Review)"
   ]
  },
  {
   "cell_type": "code",
   "execution_count": 109,
   "id": "9e4dc154-e909-4bd2-8d39-eb282d1c4e61",
   "metadata": {},
   "outputs": [
    {
     "name": "stdout",
     "output_type": "stream",
     "text": [
      "wow love place\n"
     ]
    }
   ],
   "source": [
    "print(Review)"
   ]
  },
  {
   "cell_type": "code",
   "execution_count": 111,
   "id": "e1d66358-de7f-47a4-b61c-e18adf82b6c7",
   "metadata": {},
   "outputs": [
    {
     "data": {
      "text/plain": [
       "str"
      ]
     },
     "execution_count": 111,
     "metadata": {},
     "output_type": "execute_result"
    }
   ],
   "source": [
    "type(Review)"
   ]
  },
  {
   "cell_type": "markdown",
   "id": "705c5263-75c0-441f-b639-4af7b424f503",
   "metadata": {},
   "source": [
    "Apply text cleaning to all the reviews in dataset "
   ]
  },
  {
   "cell_type": "code",
   "execution_count": 113,
   "id": "99a33b2e-6407-4171-be6b-9bd137d58b87",
   "metadata": {},
   "outputs": [],
   "source": [
    "corpus=[]#define an empty list"
   ]
  },
  {
   "cell_type": "code",
   "execution_count": 144,
   "id": "28fe5115-d1a5-4702-af17-9f08ef7c660a",
   "metadata": {},
   "outputs": [],
   "source": [
    "for i in range(0,1000): #index locations 0 to 1000\n",
    " Review = re.sub('[^a-zA-Z]','  ',data['Review\\tLiked'][i])\n",
    " Review=Review.lower()\n",
    " Review=Review.split()\n",
    "# TO GO THROUGH ALL THE WORDS,WE HAVE TO SPLIT THE WORDS\n",
    " ps=PorterStemmer()  #OBJECT OF CLASS PORTERSTEMMER\n",
    " Review=[ps.stem(word) for word in Review if not word in set(stopwords.words('english'))]\n",
    " Review=' '.join(Review)\n",
    " corpus.append(Review)"
   ]
  },
  {
   "cell_type": "code",
   "execution_count": null,
   "id": "8a295d91-2c3a-4da0-bb28-c897c3174ead",
   "metadata": {},
   "outputs": [],
   "source": []
  },
  {
   "cell_type": "code",
   "execution_count": null,
   "id": "a246cedd-e03f-47f4-8bab-a6081061241b",
   "metadata": {},
   "outputs": [],
   "source": [
    "# next step\n",
    "#BAG OF WORDS"
   ]
  },
  {
   "cell_type": "code",
   "execution_count": null,
   "id": "05e36498-cfb4-4a6d-8300-ebc3eae02235",
   "metadata": {},
   "outputs": [],
   "source": [
    "#IN THE BAG OF WORDS MODEL WE WILL TAKE ALL THE WORDS IN 1000 REVIEWS\n",
    "# and here we will select unique words, no repeatition\n",
    "#then we will create column to each  unique words\n",
    "#after that we will put all these columns in a tablle where rows=1000 reviews and columns =words\n"
   ]
  },
  {
   "cell_type": "code",
   "execution_count": 146,
   "id": "d829c4e1-ebbf-491c-b745-4bf92abb4fa6",
   "metadata": {},
   "outputs": [],
   "source": [
    "from sklearn.feature_extraction.text import CountVectorizer"
   ]
  },
  {
   "cell_type": "code",
   "execution_count": 148,
   "id": "e40317c5-39d8-48e8-bf32-dc3f26f0c43b",
   "metadata": {},
   "outputs": [],
   "source": [
    "cv=CountVectorizer(max_features=1500) #keep 1500 most frequent words\n",
    "x = cv.fit_transform(corpus).toarray() # convert x into matrix using toarray method"
   ]
  },
  {
   "cell_type": "code",
   "execution_count": 150,
   "id": "f49a6e67-32a9-4337-bd3e-63d11fa13b72",
   "metadata": {},
   "outputs": [
    {
     "data": {
      "text/plain": [
       "(1000, 1500)"
      ]
     },
     "execution_count": 150,
     "metadata": {},
     "output_type": "execute_result"
    }
   ],
   "source": [
    "x.shape # 1000 reviews and 1500 most frquent words"
   ]
  },
  {
   "cell_type": "code",
   "execution_count": 156,
   "id": "f451f56b-fada-4d0b-bc2b-fbabc07a2c08",
   "metadata": {},
   "outputs": [
    {
     "ename": "IndexError",
     "evalue": "single positional indexer is out-of-bounds",
     "output_type": "error",
     "traceback": [
      "\u001b[1;31m---------------------------------------------------------------------------\u001b[0m",
      "\u001b[1;31mIndexError\u001b[0m                                Traceback (most recent call last)",
      "Cell \u001b[1;32mIn[156], line 2\u001b[0m\n\u001b[0;32m      1\u001b[0m \u001b[38;5;66;03m#dependent variable\u001b[39;00m\n\u001b[1;32m----> 2\u001b[0m y \u001b[38;5;241m=\u001b[39m data\u001b[38;5;241m.\u001b[39miloc[:,\u001b[38;5;241m1\u001b[39m]\u001b[38;5;241m.\u001b[39mvalues\n",
      "File \u001b[1;32m~\\anaconda3\\Lib\\site-packages\\pandas\\core\\indexing.py:1184\u001b[0m, in \u001b[0;36m_LocationIndexer.__getitem__\u001b[1;34m(self, key)\u001b[0m\n\u001b[0;32m   1182\u001b[0m     \u001b[38;5;28;01mif\u001b[39;00m \u001b[38;5;28mself\u001b[39m\u001b[38;5;241m.\u001b[39m_is_scalar_access(key):\n\u001b[0;32m   1183\u001b[0m         \u001b[38;5;28;01mreturn\u001b[39;00m \u001b[38;5;28mself\u001b[39m\u001b[38;5;241m.\u001b[39mobj\u001b[38;5;241m.\u001b[39m_get_value(\u001b[38;5;241m*\u001b[39mkey, takeable\u001b[38;5;241m=\u001b[39m\u001b[38;5;28mself\u001b[39m\u001b[38;5;241m.\u001b[39m_takeable)\n\u001b[1;32m-> 1184\u001b[0m     \u001b[38;5;28;01mreturn\u001b[39;00m \u001b[38;5;28mself\u001b[39m\u001b[38;5;241m.\u001b[39m_getitem_tuple(key)\n\u001b[0;32m   1185\u001b[0m \u001b[38;5;28;01melse\u001b[39;00m:\n\u001b[0;32m   1186\u001b[0m     \u001b[38;5;66;03m# we by definition only have the 0th axis\u001b[39;00m\n\u001b[0;32m   1187\u001b[0m     axis \u001b[38;5;241m=\u001b[39m \u001b[38;5;28mself\u001b[39m\u001b[38;5;241m.\u001b[39maxis \u001b[38;5;129;01mor\u001b[39;00m \u001b[38;5;241m0\u001b[39m\n",
      "File \u001b[1;32m~\\anaconda3\\Lib\\site-packages\\pandas\\core\\indexing.py:1690\u001b[0m, in \u001b[0;36m_iLocIndexer._getitem_tuple\u001b[1;34m(self, tup)\u001b[0m\n\u001b[0;32m   1689\u001b[0m \u001b[38;5;28;01mdef\u001b[39;00m \u001b[38;5;21m_getitem_tuple\u001b[39m(\u001b[38;5;28mself\u001b[39m, tup: \u001b[38;5;28mtuple\u001b[39m):\n\u001b[1;32m-> 1690\u001b[0m     tup \u001b[38;5;241m=\u001b[39m \u001b[38;5;28mself\u001b[39m\u001b[38;5;241m.\u001b[39m_validate_tuple_indexer(tup)\n\u001b[0;32m   1691\u001b[0m     \u001b[38;5;28;01mwith\u001b[39;00m suppress(IndexingError):\n\u001b[0;32m   1692\u001b[0m         \u001b[38;5;28;01mreturn\u001b[39;00m \u001b[38;5;28mself\u001b[39m\u001b[38;5;241m.\u001b[39m_getitem_lowerdim(tup)\n",
      "File \u001b[1;32m~\\anaconda3\\Lib\\site-packages\\pandas\\core\\indexing.py:966\u001b[0m, in \u001b[0;36m_LocationIndexer._validate_tuple_indexer\u001b[1;34m(self, key)\u001b[0m\n\u001b[0;32m    964\u001b[0m \u001b[38;5;28;01mfor\u001b[39;00m i, k \u001b[38;5;129;01min\u001b[39;00m \u001b[38;5;28menumerate\u001b[39m(key):\n\u001b[0;32m    965\u001b[0m     \u001b[38;5;28;01mtry\u001b[39;00m:\n\u001b[1;32m--> 966\u001b[0m         \u001b[38;5;28mself\u001b[39m\u001b[38;5;241m.\u001b[39m_validate_key(k, i)\n\u001b[0;32m    967\u001b[0m     \u001b[38;5;28;01mexcept\u001b[39;00m \u001b[38;5;167;01mValueError\u001b[39;00m \u001b[38;5;28;01mas\u001b[39;00m err:\n\u001b[0;32m    968\u001b[0m         \u001b[38;5;28;01mraise\u001b[39;00m \u001b[38;5;167;01mValueError\u001b[39;00m(\n\u001b[0;32m    969\u001b[0m             \u001b[38;5;124m\"\u001b[39m\u001b[38;5;124mLocation based indexing can only have \u001b[39m\u001b[38;5;124m\"\u001b[39m\n\u001b[0;32m    970\u001b[0m             \u001b[38;5;124mf\u001b[39m\u001b[38;5;124m\"\u001b[39m\u001b[38;5;124m[\u001b[39m\u001b[38;5;132;01m{\u001b[39;00m\u001b[38;5;28mself\u001b[39m\u001b[38;5;241m.\u001b[39m_valid_types\u001b[38;5;132;01m}\u001b[39;00m\u001b[38;5;124m] types\u001b[39m\u001b[38;5;124m\"\u001b[39m\n\u001b[0;32m    971\u001b[0m         ) \u001b[38;5;28;01mfrom\u001b[39;00m \u001b[38;5;21;01merr\u001b[39;00m\n",
      "File \u001b[1;32m~\\anaconda3\\Lib\\site-packages\\pandas\\core\\indexing.py:1592\u001b[0m, in \u001b[0;36m_iLocIndexer._validate_key\u001b[1;34m(self, key, axis)\u001b[0m\n\u001b[0;32m   1590\u001b[0m     \u001b[38;5;28;01mreturn\u001b[39;00m\n\u001b[0;32m   1591\u001b[0m \u001b[38;5;28;01melif\u001b[39;00m is_integer(key):\n\u001b[1;32m-> 1592\u001b[0m     \u001b[38;5;28mself\u001b[39m\u001b[38;5;241m.\u001b[39m_validate_integer(key, axis)\n\u001b[0;32m   1593\u001b[0m \u001b[38;5;28;01melif\u001b[39;00m \u001b[38;5;28misinstance\u001b[39m(key, \u001b[38;5;28mtuple\u001b[39m):\n\u001b[0;32m   1594\u001b[0m     \u001b[38;5;66;03m# a tuple should already have been caught by this point\u001b[39;00m\n\u001b[0;32m   1595\u001b[0m     \u001b[38;5;66;03m# so don't treat a tuple as a valid indexer\u001b[39;00m\n\u001b[0;32m   1596\u001b[0m     \u001b[38;5;28;01mraise\u001b[39;00m IndexingError(\u001b[38;5;124m\"\u001b[39m\u001b[38;5;124mToo many indexers\u001b[39m\u001b[38;5;124m\"\u001b[39m)\n",
      "File \u001b[1;32m~\\anaconda3\\Lib\\site-packages\\pandas\\core\\indexing.py:1685\u001b[0m, in \u001b[0;36m_iLocIndexer._validate_integer\u001b[1;34m(self, key, axis)\u001b[0m\n\u001b[0;32m   1683\u001b[0m len_axis \u001b[38;5;241m=\u001b[39m \u001b[38;5;28mlen\u001b[39m(\u001b[38;5;28mself\u001b[39m\u001b[38;5;241m.\u001b[39mobj\u001b[38;5;241m.\u001b[39m_get_axis(axis))\n\u001b[0;32m   1684\u001b[0m \u001b[38;5;28;01mif\u001b[39;00m key \u001b[38;5;241m>\u001b[39m\u001b[38;5;241m=\u001b[39m len_axis \u001b[38;5;129;01mor\u001b[39;00m key \u001b[38;5;241m<\u001b[39m \u001b[38;5;241m-\u001b[39mlen_axis:\n\u001b[1;32m-> 1685\u001b[0m     \u001b[38;5;28;01mraise\u001b[39;00m \u001b[38;5;167;01mIndexError\u001b[39;00m(\u001b[38;5;124m\"\u001b[39m\u001b[38;5;124msingle positional indexer is out-of-bounds\u001b[39m\u001b[38;5;124m\"\u001b[39m)\n",
      "\u001b[1;31mIndexError\u001b[0m: single positional indexer is out-of-bounds"
     ]
    }
   ],
   "source": [
    "#dependent variable\n",
    "y = data.iloc[:,0].values    #selecting column'liked' as dependent variable to train ml model"
   ]
  },
  {
   "cell_type": "code",
   "execution_count": null,
   "id": "4560cd0a-7273-4fce-9647-d69ee66b4177",
   "metadata": {},
   "outputs": [],
   "source": [
    "#next step\n",
    "#splitting the dataset into the train and t-test"
   ]
  },
  {
   "cell_type": "code",
   "execution_count": null,
   "id": "9116ec49-ebd4-47c7-b09c-3c0d85dd5242",
   "metadata": {},
   "outputs": [],
   "source": [
    "from sklearn.model_selection import train_test_split"
   ]
  },
  {
   "cell_type": "code",
   "execution_count": null,
   "id": "8c829022-0d3c-4e67-8602-f33862988a3c",
   "metadata": {},
   "outputs": [],
   "source": [
    "x_train,x_test,y_train,y_test=train_test_split(x,y,test_size =0.20,random_state=0)"
   ]
  },
  {
   "cell_type": "code",
   "execution_count": null,
   "id": "ec8a6668-7826-4392-9766-3f474c3b651b",
   "metadata": {},
   "outputs": [],
   "source": [
    "x_train.shape,y_train.shape"
   ]
  },
  {
   "cell_type": "code",
   "execution_count": null,
   "id": "875a1757-a902-44a0-a083-094e4fd15433",
   "metadata": {},
   "outputs": [],
   "source": [
    "x_test.shape,y_test.shape"
   ]
  },
  {
   "cell_type": "code",
   "execution_count": null,
   "id": "61511610-c51a-4702-963c-87c4767ed463",
   "metadata": {},
   "outputs": [],
   "source": [
    "#next\n",
    "#train the model(naive bayes)"
   ]
  },
  {
   "cell_type": "code",
   "execution_count": null,
   "id": "211fafc4-f1e4-44ec-9c94-0e2dbce41bd4",
   "metadata": {},
   "outputs": [],
   "source": [
    "from sklearn.naive_bayes import GaussianNB\n",
    "classifier =GaussianNB()\n",
    "classifier.fit(x_train,y_train)"
   ]
  },
  {
   "cell_type": "code",
   "execution_count": null,
   "id": "15e8f945-7973-4c03-b50a-ba928060392b",
   "metadata": {},
   "outputs": [],
   "source": [
    "# next\n",
    "#predict the test set results"
   ]
  },
  {
   "cell_type": "code",
   "execution_count": null,
   "id": "2e55739b-2649-42fc-b54b-d189c83daccc",
   "metadata": {},
   "outputs": [],
   "source": [
    "from sklearn.metrics import accuracy_score,classification_report,confusion_matrix"
   ]
  },
  {
   "cell_type": "code",
   "execution_count": null,
   "id": "a21a19a1-0443-4c87-967e-b1fcc383eb2a",
   "metadata": {},
   "outputs": [],
   "source": [
    "y_pred = classifier.predict(x_test)"
   ]
  },
  {
   "cell_type": "code",
   "execution_count": null,
   "id": "d64a31a1-0d5c-439c-955d-d7c23e816c48",
   "metadata": {},
   "outputs": [],
   "source": [
    "#confusion_matrix\n",
    "confusion_matrix(y_test,y_pred)"
   ]
  },
  {
   "cell_type": "code",
   "execution_count": null,
   "id": "cf94597b-2e76-451f-9428-a74106cd19c1",
   "metadata": {},
   "outputs": [],
   "source": [
    "#classification_report\n",
    "print(classification_report(y_test,y_pred))\n",
    "#we are getting almost 73% accuracy"
   ]
  },
  {
   "cell_type": "code",
   "execution_count": null,
   "id": "3091b047-1419-441b-a16c-1e0db02c3425",
   "metadata": {},
   "outputs": [],
   "source": [
    "accuracy_score(y_test,y_pred)"
   ]
  }
 ],
 "metadata": {
  "kernelspec": {
   "display_name": "Python 3 (ipykernel)",
   "language": "python",
   "name": "python3"
  },
  "language_info": {
   "codemirror_mode": {
    "name": "ipython",
    "version": 3
   },
   "file_extension": ".py",
   "mimetype": "text/x-python",
   "name": "python",
   "nbconvert_exporter": "python",
   "pygments_lexer": "ipython3",
   "version": "3.12.4"
  }
 },
 "nbformat": 4,
 "nbformat_minor": 5
}
