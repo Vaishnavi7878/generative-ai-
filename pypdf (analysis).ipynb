{
 "cells": [
  {
   "cell_type": "code",
   "execution_count": 1,
   "id": "466b074d-8b78-4f35-91c8-8d29061456a6",
   "metadata": {},
   "outputs": [],
   "source": [
    "## 1 Print an f-string that displays NLP stands for Natural Language Processing using the variables provided."
   ]
  },
  {
   "cell_type": "code",
   "execution_count": 2,
   "id": "446fbd4b-669b-4f7e-9ff5-137f4b1acbd7",
   "metadata": {},
   "outputs": [
    {
     "name": "stdout",
     "output_type": "stream",
     "text": [
      "nlp is stands for natural processing language.\n"
     ]
    }
   ],
   "source": [
    "nlp = \"natural processing language\"\n",
    "print(f'nlp is stands for {nlp}.')"
   ]
  },
  {
   "cell_type": "code",
   "execution_count": 3,
   "id": "e70c4a10-223c-4c38-92c3-2e1406bbe9cd",
   "metadata": {},
   "outputs": [],
   "source": [
    "## 2. Create a file in the current working directory called contacts.txt by running the cell below."
   ]
  },
  {
   "cell_type": "code",
   "execution_count": 4,
   "id": "f8d5e67f-9521-4806-8934-3bcd33364d02",
   "metadata": {},
   "outputs": [
    {
     "name": "stdout",
     "output_type": "stream",
     "text": [
      "Overwriting contacts.txt\n"
     ]
    }
   ],
   "source": [
    "%%writefile contacts.txt\n",
    "nlp is stands for natural programming language."
   ]
  },
  {
   "cell_type": "code",
   "execution_count": 5,
   "id": "807facba-cf71-4b06-907e-0ad56658fdcf",
   "metadata": {},
   "outputs": [],
   "source": [
    "##3. Open the file and use .read() to save the contents of the file to a string called fields. Make sure the file is closed at the end."
   ]
  },
  {
   "cell_type": "code",
   "execution_count": 6,
   "id": "ae75fa59-0d15-4c20-99f0-e2bd142ac32d",
   "metadata": {},
   "outputs": [],
   "source": [
    "field = open('contacts.txt')"
   ]
  },
  {
   "cell_type": "code",
   "execution_count": 7,
   "id": "a7f15185-837f-4e0c-a71e-2b6619354f6f",
   "metadata": {},
   "outputs": [
    {
     "data": {
      "text/plain": [
       "'nlp is stands for natural programming language.\\n'"
      ]
     },
     "execution_count": 7,
     "metadata": {},
     "output_type": "execute_result"
    }
   ],
   "source": [
    "field.read()"
   ]
  },
  {
   "cell_type": "code",
   "execution_count": 8,
   "id": "b5d48335-3a94-4e5e-abcb-2d75e60e1856",
   "metadata": {},
   "outputs": [],
   "source": [
    "field.close()"
   ]
  },
  {
   "cell_type": "code",
   "execution_count": 9,
   "id": "547ab445-5fcd-4121-8c90-a0a97c9ef05e",
   "metadata": {},
   "outputs": [],
   "source": [
    "##4 Use PyPDF2 to open the file Business_Proposal.pdf. Extract the text of page 2."
   ]
  },
  {
   "cell_type": "code",
   "execution_count": 10,
   "id": "cb15693d-45f3-40c4-a34f-a73240649b49",
   "metadata": {},
   "outputs": [
    {
     "name": "stdout",
     "output_type": "stream",
     "text": [
      "Requirement already satisfied: PyPDF2 in c:\\users\\lenovo india\\anaconda3\\lib\\site-packages (3.0.1)\n",
      "Note: you may need to restart the kernel to use updated packages.\n"
     ]
    }
   ],
   "source": [
    "pip install PyPDF2"
   ]
  },
  {
   "cell_type": "code",
   "execution_count": 11,
   "id": "1e546880-68fa-44b6-95cd-554edcea6a72",
   "metadata": {},
   "outputs": [],
   "source": [
    "import PyPDF2"
   ]
  },
  {
   "cell_type": "code",
   "execution_count": 12,
   "id": "edc8a9a1-ffc4-4075-80c5-245184857257",
   "metadata": {},
   "outputs": [],
   "source": [
    "f=open('Business_Proposal.pdf','rb')"
   ]
  },
  {
   "cell_type": "code",
   "execution_count": 13,
   "id": "d9788f2a-5b6a-4032-b00e-4c1e78cb6fb7",
   "metadata": {},
   "outputs": [],
   "source": [
    "pdf_reader = PyPDF2.PdfReader(f)\n"
   ]
  },
  {
   "cell_type": "code",
   "execution_count": 14,
   "id": "d0bda8b9-ed76-439f-b6ad-78148b4942c7",
   "metadata": {},
   "outputs": [
    {
     "data": {
      "text/plain": [
       "2"
      ]
     },
     "execution_count": 14,
     "metadata": {},
     "output_type": "execute_result"
    }
   ],
   "source": [
    "len(pdf_reader.pages)"
   ]
  },
  {
   "cell_type": "code",
   "execution_count": 15,
   "id": "ed087d16-aa9c-44d1-84f2-2d863e7e3363",
   "metadata": {},
   "outputs": [],
   "source": [
    "page_two = pdf_reader.pages[1]"
   ]
  },
  {
   "cell_type": "code",
   "execution_count": 16,
   "id": "ab0e148c-f574-4681-b387-6b84f35231e5",
   "metadata": {},
   "outputs": [],
   "source": [
    "page_two_text = page_two.extract_text()"
   ]
  },
  {
   "cell_type": "code",
   "execution_count": 17,
   "id": "dd4bcf2d-30b4-4fd0-a987-41a38154090f",
   "metadata": {},
   "outputs": [
    {
     "data": {
      "text/plain": [
       "'AUTHORS:  \\nAmy Baker, Finance Chair, x345, abaker@ourcompany.com  \\nChris Donaldson, Accounting Dir., x621, cdonaldson@ourcompany.com  \\nErin Freeman, Sr. VP, x879, efreeman@ourcompany.com  '"
      ]
     },
     "execution_count": 17,
     "metadata": {},
     "output_type": "execute_result"
    }
   ],
   "source": [
    "page_two_text"
   ]
  },
  {
   "cell_type": "code",
   "execution_count": 18,
   "id": "16e97794-c918-4638-b81e-26415e7bba3b",
   "metadata": {},
   "outputs": [],
   "source": [
    "f.close()"
   ]
  },
  {
   "cell_type": "code",
   "execution_count": 19,
   "id": "5a166967-ca2f-4690-9dd6-aa04c6f20b15",
   "metadata": {},
   "outputs": [],
   "source": [
    "##5. Open the file contacts.txt in append mode. Add the text of page 2 from above to contacts.txt.\n",
    "# Open the file in append mode\n",
    "with open(\"contacts.txt\", \"a\") as file:\n",
    "    # Text to be added\n",
    "    page_two_text = \"Your text for page 2 goes here.\"\n",
    "    \n",
    "    # Append the text to the file\n",
    "    file.write(page_two_text)\n",
    "\n",
    "# The file is automatically closed after the 'with' block\n"
   ]
  },
  {
   "cell_type": "code",
   "execution_count": 20,
   "id": "54ddbdcb-815e-4f2f-917e-e4f3957a0941",
   "metadata": {},
   "outputs": [
    {
     "data": {
      "text/plain": [
       "<function TextIOWrapper.write(text, /)>"
      ]
     },
     "execution_count": 20,
     "metadata": {},
     "output_type": "execute_result"
    }
   ],
   "source": [
    "file.write"
   ]
  },
  {
   "cell_type": "code",
   "execution_count": 22,
   "id": "8108a5d9-1f70-4a78-8aa7-31ad66f6aef5",
   "metadata": {},
   "outputs": [
    {
     "name": "stdout",
     "output_type": "stream",
     "text": [
      "['abaker@ourcompany.com', 'cdonaldson@ourcompany.com', 'efreeman@ourcompany.com']\n"
     ]
    }
   ],
   "source": [
    "6.# Using the page_two_text variable created above, extract any email addresses that were contained in the file Business_Proposal.pdf.\n",
    "import PyPDF2\n",
    "import re\n",
    "\n",
    "# Open the PDF file\n",
    "with open(\"Business_Proposal.pdf\", \"rb\") as pdf_file:\n",
    "    reader = PyPDF2.PdfReader(pdf_file)\n",
    "    \n",
    "    # Extract text from page 2 (assuming 0-indexed pages)\n",
    "    page_two_text = reader.pages[1].extract_text()\n",
    "\n",
    "# Define a regex pattern for email addresses\n",
    "email_pattern = r'[a-zA-Z0-9._%+-]+@[a-zA-Z0-9.-]+\\.[a-zA-Z]{2,}'\n",
    "\n",
    "# Find all email addresses in the extracted text\n",
    "email_addresses = re.findall(email_pattern, page_two_text)\n",
    "\n",
    "# Print the extracted email addresses\n",
    "print(email_addresses)"
   ]
  },
  {
   "cell_type": "code",
   "execution_count": null,
   "id": "a770491c-99a5-4f90-85ed-d38c632b56e7",
   "metadata": {},
   "outputs": [],
   "source": []
  }
 ],
 "metadata": {
  "kernelspec": {
   "display_name": "Python 3 (ipykernel)",
   "language": "python",
   "name": "python3"
  },
  "language_info": {
   "codemirror_mode": {
    "name": "ipython",
    "version": 3
   },
   "file_extension": ".py",
   "mimetype": "text/x-python",
   "name": "python",
   "nbconvert_exporter": "python",
   "pygments_lexer": "ipython3",
   "version": "3.12.4"
  }
 },
 "nbformat": 4,
 "nbformat_minor": 5
}
