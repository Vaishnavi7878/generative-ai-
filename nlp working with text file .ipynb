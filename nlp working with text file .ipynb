{
 "cells": [
  {
   "cell_type": "code",
   "execution_count": 33,
   "id": "69d4846e-6a60-484e-995c-2f6fce7f88f0",
   "metadata": {},
   "outputs": [
    {
     "name": "stdout",
     "output_type": "stream",
     "text": [
      "his name is radha. \n",
      "his is radha.\n"
     ]
    }
   ],
   "source": [
    "## nlp \n",
    "## working with the text file \n",
    "\n",
    "name = \"radha\"\n",
    "\n",
    "# using the old.formate() method\n",
    "print ('his name is {var}. '.format(var=name))\n",
    "\n",
    "\n",
    "# using f - striing \n",
    "print (f'his is {name}.')"
   ]
  },
  {
   "cell_type": "code",
   "execution_count": 11,
   "id": "a76bbb2f-5dd8-40ce-bd72-a1b193f1f9fe",
   "metadata": {},
   "outputs": [
    {
     "name": "stdout",
     "output_type": "stream",
     "text": [
      "adress : 123 main street\n"
     ]
    }
   ],
   "source": [
    "d = {'a':123,'b':456}\n",
    "print (f\"adress : {d['a']} main street\")"
   ]
  },
  {
   "cell_type": "code",
   "execution_count": 39,
   "id": "58029080-65a1-4684-bfa5-1b95279d5bfc",
   "metadata": {},
   "outputs": [
    {
     "name": "stdout",
     "output_type": "stream",
     "text": [
      "author     topic      page \n",
      "______________________________\n",
      "author     topic    pages\n",
      "twain      refting  ..601\n",
      "feyman     physics  ...95\n",
      "hamilton   mythology ..144\n"
     ]
    }
   ],
   "source": [
    "lib = [(\"author\",\"topic\",\"pages\"),(\"twain\",\"refting\", 601),(\"feyman\",\"physics\",95),(\"hamilton\",\"mythology\",144)]\n",
    "\n",
    "print(f\"{'author': <10} {'topic':<10} {'page':<5}\")\n",
    "print(\"_\" *30)\n",
    "\n",
    "for book in lib:\n",
    "    print (f'{book[0]:{10}} {book[1]:{8}} {book[2]:.>{5}}') \n",
    "    \n",
    "# add .>   \n",
    "\n",
    " \n",
    "\n",
    " # for loop use this formate ( [0] position , {10} is space  \n",
    "       "
   ]
  },
  {
   "cell_type": "code",
   "execution_count": null,
   "id": "6d180961-a39a-4864-8e0a-7b8ecf70d06f",
   "metadata": {},
   "outputs": [],
   "source": [
    "# DATE FORMATING "
   ]
  },
  {
   "cell_type": "code",
   "execution_count": 15,
   "id": "eb48c7bc-fa50-41cc-bf08-45b156a327a7",
   "metadata": {},
   "outputs": [
    {
     "name": "stdout",
     "output_type": "stream",
     "text": [
      "February 12 , 25\n"
     ]
    }
   ],
   "source": [
    "from datetime import datetime \n",
    "today = datetime (year=2025,month = 2 , day = 12)\n",
    "print(f'{today:%B %d , %y}')\n",
    "# %B means pura month ki spelling , %d day number (0-31) , % y = 25 "
   ]
  },
  {
   "cell_type": "code",
   "execution_count": null,
   "id": "d12a35eb-1df9-4b7b-aceb-aeec976b6d2c",
   "metadata": {},
   "outputs": [],
   "source": [
    "# creating a file with python"
   ]
  },
  {
   "cell_type": "code",
   "execution_count": 17,
   "id": "ca86c409-bac2-4506-9b4f-b834d890e964",
   "metadata": {},
   "outputs": [
    {
     "name": "stdout",
     "output_type": "stream",
     "text": [
      "Overwriting test.txt\n"
     ]
    }
   ],
   "source": [
    "%%writefile test.txt \n",
    "Hello, this is a quick test file.\n",
    "This is the second line of this fine.\n"
   ]
  },
  {
   "cell_type": "code",
   "execution_count": 19,
   "id": "b82ff618-107f-4fca-90ed-6b6326eb98bb",
   "metadata": {},
   "outputs": [
    {
     "name": "stdout",
     "output_type": "stream",
     "text": [
      "Overwriting test.txt\n"
     ]
    }
   ],
   "source": [
    "%%writefile test.txt \n",
    "how are u "
   ]
  },
  {
   "cell_type": "code",
   "execution_count": null,
   "id": "000955b3-97cf-42f2-893a-cda3a2608bda",
   "metadata": {},
   "outputs": [],
   "source": [
    "# open the text.txt file we created earlier "
   ]
  },
  {
   "cell_type": "code",
   "execution_count": 21,
   "id": "560f0f29-416e-4859-8f92-ebdb147564ca",
   "metadata": {},
   "outputs": [],
   "source": [
    "my_file = open('test.txt')"
   ]
  },
  {
   "cell_type": "code",
   "execution_count": null,
   "id": "d02415eb-b054-43e3-9c2f-c42cc19fce6b",
   "metadata": {},
   "outputs": [],
   "source": [
    "# we can now read the file "
   ]
  },
  {
   "cell_type": "code",
   "execution_count": 23,
   "id": "7fc65016-e48f-4c92-9b20-87fa1f6b51ef",
   "metadata": {},
   "outputs": [
    {
     "data": {
      "text/plain": [
       "'how are u \\n'"
      ]
     },
     "execution_count": 23,
     "metadata": {},
     "output_type": "execute_result"
    }
   ],
   "source": [
    "my_file.read()"
   ]
  },
  {
   "cell_type": "code",
   "execution_count": null,
   "id": "e9b32b39-10a2-4db7-b7a2-7a1ced47a88d",
   "metadata": {},
   "outputs": [],
   "source": [
    "# again read but it can't \n",
    "# beacause carser shift end "
   ]
  },
  {
   "cell_type": "code",
   "execution_count": 25,
   "id": "1dcc7092-3578-4677-a38b-e2c6052a77e2",
   "metadata": {},
   "outputs": [
    {
     "data": {
      "text/plain": [
       "''"
      ]
     },
     "execution_count": 25,
     "metadata": {},
     "output_type": "execute_result"
    }
   ],
   "source": [
    "my_file.read()\n"
   ]
  },
  {
   "cell_type": "code",
   "execution_count": 27,
   "id": "f424547d-07bf-4d6a-a52a-ebb6d37d2bb3",
   "metadata": {},
   "outputs": [
    {
     "data": {
      "text/plain": [
       "0"
      ]
     },
     "execution_count": 27,
     "metadata": {},
     "output_type": "execute_result"
    }
   ],
   "source": [
    "# seek to the start of file (index 0) (it move corser starting)\n",
    "my_file.seek(0)"
   ]
  },
  {
   "cell_type": "code",
   "execution_count": 29,
   "id": "343cae8a-cef2-4c56-84ce-f7989b9d1e48",
   "metadata": {},
   "outputs": [
    {
     "data": {
      "text/plain": [
       "'how are u \\n'"
      ]
     },
     "execution_count": 29,
     "metadata": {},
     "output_type": "execute_result"
    }
   ],
   "source": [
    "# now read again\n",
    "my_file.read()"
   ]
  },
  {
   "cell_type": "code",
   "execution_count": null,
   "id": "f9f1cbe9-e694-4bf3-8702-b6a3cf2752de",
   "metadata": {},
   "outputs": [],
   "source": [
    "# SHORT WAY MY PRACTICE "
   ]
  },
  {
   "cell_type": "code",
   "execution_count": 5,
   "id": "2c27182a-c862-43e0-ada8-a347dbf26386",
   "metadata": {},
   "outputs": [
    {
     "name": "stdout",
     "output_type": "stream",
     "text": [
      "his name is radhe.\n"
     ]
    }
   ],
   "source": [
    "name = \"radhe\" \n",
    "print('his name is {var}.'.format(var = name))\n",
    "\n",
    "      "
   ]
  },
  {
   "cell_type": "code",
   "execution_count": 9,
   "id": "3d354555-dc01-441c-b4bb-2e495b6f2abd",
   "metadata": {},
   "outputs": [
    {
     "name": "stdout",
     "output_type": "stream",
     "text": [
      "his name is krishna.\n"
     ]
    }
   ],
   "source": [
    "name = \"krishna\" \n",
    "print (f'his name is {name}.')"
   ]
  },
  {
   "cell_type": "code",
   "execution_count": 21,
   "id": "d0fba9b8-a30e-402f-8136-640f52600152",
   "metadata": {},
   "outputs": [
    {
     "name": "stdout",
     "output_type": "stream",
     "text": [
      "this no is {'a': 147, 'b': 258}.\n",
      "number :147\n"
     ]
    }
   ],
   "source": [
    "no = {'a': 147 , 'b':258}\n",
    "print (f'this no is {no}.')\n",
    "print (f'number :{ no['a']}')"
   ]
  },
  {
   "cell_type": "code",
   "execution_count": 33,
   "id": "0ce39f34-fd58-4b4b-80a3-f1d97c5d8f7a",
   "metadata": {},
   "outputs": [
    {
     "name": "stdout",
     "output_type": "stream",
     "text": [
      "author                                             topic                                                                                                pages                    \n",
      "______________________________\n"
     ]
    }
   ],
   "source": [
    "library = [(\"author\",\"topic\",\"pages\"),(\"twain\",\"reflting\",601),(\"harry\", \"novel\",500),(\"bevy\", \"book\",564)]\n",
    "print (f\"{\"author\": <50} {\"topic\": <100} {\"pages\":<25}\")\n",
    "print (\"_\"*30)\n"
   ]
  },
  {
   "cell_type": "code",
   "execution_count": 43,
   "id": "a549b5b6-e3d2-4cb4-bdbc-bf6ad905b6a2",
   "metadata": {},
   "outputs": [
    {
     "name": "stdout",
     "output_type": "stream",
     "text": [
      "author                                             topic                                                                                                pages                    \n",
      "______________________________\n",
      "author                              topic                          pages                    \n",
      "twain                               reflting                                             601\n",
      "harry                               novel                                                500\n",
      "bevy                                book                                                 564\n"
     ]
    }
   ],
   "source": [
    "library = [(\"author\",\"topic\",\"pages\"),(\"twain\",\"reflting\",601),(\"harry\", \"novel\",500),(\"bevy\", \"book\",564)]\n",
    "print (f\"{\"author\": <50} {\"topic\": <100} {\"pages\":<25}\")\n",
    "print (\"_\"*30)\n",
    "for book in library:\n",
    "    print (f\"{book [0]:{35}} {book [1]:{30}} {book [2]:{25}}\")"
   ]
  },
  {
   "cell_type": "code",
   "execution_count": null,
   "id": "d1438f80-ec94-40c8-bce7-5d0e83078970",
   "metadata": {},
   "outputs": [],
   "source": []
  }
 ],
 "metadata": {
  "kernelspec": {
   "display_name": "Python 3 (ipykernel)",
   "language": "python",
   "name": "python3"
  },
  "language_info": {
   "codemirror_mode": {
    "name": "ipython",
    "version": 3
   },
   "file_extension": ".py",
   "mimetype": "text/x-python",
   "name": "python",
   "nbconvert_exporter": "python",
   "pygments_lexer": "ipython3",
   "version": "3.12.4"
  }
 },
 "nbformat": 4,
 "nbformat_minor": 5
}
