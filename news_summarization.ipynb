{
 "cells": [
  {
   "cell_type": "code",
   "execution_count": 1,
   "id": "9079e591-928b-4056-93ba-c59867fb8eea",
   "metadata": {},
   "outputs": [],
   "source": [
    "# news textation "
   ]
  },
  {
   "cell_type": "code",
   "execution_count": 2,
   "id": "edf1eb11-b0b2-4e48-9709-5def20225a5a",
   "metadata": {},
   "outputs": [],
   "source": [
    "import spacy \n",
    "from spacy.lang.en.stop_words import STOP_WORDS \n",
    "from string import punctuation "
   ]
  },
  {
   "cell_type": "code",
   "execution_count": 3,
   "id": "96aef626-e85a-4feb-9a7d-16ad2f00e1d8",
   "metadata": {},
   "outputs": [],
   "source": [
    "nlp = spacy.load('en_core_web_sm')"
   ]
  },
  {
   "cell_type": "code",
   "execution_count": 4,
   "id": "83e8c7c8-0a85-4226-970e-fe3fa9ff47b6",
   "metadata": {},
   "outputs": [],
   "source": [
    "text =\"\"\"The surprise spell of showers triggered water logging in several pockets, leaving office goers in a lurch on Monday morning. Amongst several pocket, traffic took a hit in Andheri subway which was shit owing to accumulation of rain water. \n",
    "\n",
    "According to the BMC’s automatic weather station, the heaviest downpour was recorded in the western suburbs at an average of 50 mm rainfall, followed by 36 rainfall in the eastern suburbs. \n",
    "\n",
    "Indicating the revival of monsoon currents on cards, the IMD has placed Mumbai and its neighbouring districts of Thane and Palghar under a yellow warning of ‘thunderstorms, lightning and moderate rain with gusty winds’ in the week ahead. \n",
    "\n",
    "Even as July is the city’s wettest month of the year, Mumbai was reeling under a rain deficit so far. \"\"\""
   ]
  },
  {
   "cell_type": "code",
   "execution_count": 5,
   "id": "c68ec629-1507-4295-9543-d5c5685e4c8d",
   "metadata": {},
   "outputs": [],
   "source": [
    "stopwords = list(STOP_WORDS)"
   ]
  },
  {
   "cell_type": "code",
   "execution_count": 6,
   "id": "22c4d8bf-c26a-479a-8b4f-4bf730a3128b",
   "metadata": {},
   "outputs": [],
   "source": [
    "doc = nlp(text) # appliled tokenization"
   ]
  },
  {
   "cell_type": "code",
   "execution_count": 7,
   "id": "06108264-0ba9-4ff7-888f-21ff1e97dd9c",
   "metadata": {},
   "outputs": [
    {
     "name": "stdout",
     "output_type": "stream",
     "text": [
      "['The', 'surprise', 'spell', 'of', 'showers', 'triggered', 'water', 'logging', 'in', 'several', 'pockets', ',', 'leaving', 'office', 'goers', 'in', 'a', 'lurch', 'on', 'Monday', 'morning', '.', 'Amongst', 'several', 'pocket', ',', 'traffic', 'took', 'a', 'hit', 'in', 'Andheri', 'subway', 'which', 'was', 'shit', 'owing', 'to', 'accumulation', 'of', 'rain', 'water', '.', '\\n\\n', 'According', 'to', 'the', 'BMC', '’s', 'automatic', 'weather', 'station', ',', 'the', 'heaviest', 'downpour', 'was', 'recorded', 'in', 'the', 'western', 'suburbs', 'at', 'an', 'average', 'of', '50', 'mm', 'rainfall', ',', 'followed', 'by', '36', 'rainfall', 'in', 'the', 'eastern', 'suburbs', '.', '\\n\\n', 'Indicating', 'the', 'revival', 'of', 'monsoon', 'currents', 'on', 'cards', ',', 'the', 'IMD', 'has', 'placed', 'Mumbai', 'and', 'its', 'neighbouring', 'districts', 'of', 'Thane', 'and', 'Palghar', 'under', 'a', 'yellow', 'warning', 'of', '‘', 'thunderstorms', ',', 'lightning', 'and', 'moderate', 'rain', 'with', 'gusty', 'winds', '’', 'in', 'the', 'week', 'ahead', '.', '\\n\\n', 'Even', 'as', 'July', 'is', 'the', 'city', '’s', 'wettest', 'month', 'of', 'the', 'year', ',', 'Mumbai', 'was', 'reeling', 'under', 'a', 'rain', 'deficit', 'so', 'far', '.']\n"
     ]
    }
   ],
   "source": [
    "tokens = [token.text for token in doc]\n",
    "print(tokens)"
   ]
  },
  {
   "cell_type": "code",
   "execution_count": 8,
   "id": "06fb1802-5ad2-4465-9de6-78c8954d00d9",
   "metadata": {},
   "outputs": [],
   "source": [
    "# add new line (\\n) to punctuation \n",
    "punctuation = punctuation + '\\n'"
   ]
  },
  {
   "cell_type": "code",
   "execution_count": 9,
   "id": "cb04740f-dd08-4eb2-b57b-166d69caec68",
   "metadata": {},
   "outputs": [
    {
     "data": {
      "text/plain": [
       "'!\"#$%&\\'()*+,-./:;<=>?@[\\\\]^_`{|}~\\n'"
      ]
     },
     "execution_count": 9,
     "metadata": {},
     "output_type": "execute_result"
    }
   ],
   "source": [
    "punctuation"
   ]
  },
  {
   "cell_type": "raw",
   "id": "7627295f-29a3-498b-8262-6447e8fdcb69",
   "metadata": {},
   "source": [
    "Text Cleaning"
   ]
  },
  {
   "cell_type": "code",
   "execution_count": 10,
   "id": "3688fc4e-210a-4c1e-aa55-aba1e8fcd539",
   "metadata": {},
   "outputs": [],
   "source": [
    "word_frequencies = {}\n",
    "\n",
    "for word in doc:\n",
    "  if word.text.lower() not in stopwords:\n",
    "    if word.text.lower() not in punctuation:\n",
    "      if word.text not in word_frequencies.keys():\n",
    "          word_frequencies[word.text] = 1 "
   ]
  },
  {
   "cell_type": "code",
   "execution_count": 11,
   "id": "3a70240b-db5d-4fd2-b666-3eb355231701",
   "metadata": {},
   "outputs": [
    {
     "name": "stdout",
     "output_type": "stream",
     "text": [
      "{'surprise': 1, 'spell': 1, 'showers': 1, 'triggered': 1, 'water': 1, 'logging': 1, 'pockets': 1, 'leaving': 1, 'office': 1, 'goers': 1, 'lurch': 1, 'Monday': 1, 'morning': 1, 'pocket': 1, 'traffic': 1, 'took': 1, 'hit': 1, 'Andheri': 1, 'subway': 1, 'shit': 1, 'owing': 1, 'accumulation': 1, 'rain': 1, '\\n\\n': 1, 'According': 1, 'BMC': 1, 'automatic': 1, 'weather': 1, 'station': 1, 'heaviest': 1, 'downpour': 1, 'recorded': 1, 'western': 1, 'suburbs': 1, 'average': 1, '50': 1, 'mm': 1, 'rainfall': 1, 'followed': 1, '36': 1, 'eastern': 1, 'Indicating': 1, 'revival': 1, 'monsoon': 1, 'currents': 1, 'cards': 1, 'IMD': 1, 'placed': 1, 'Mumbai': 1, 'neighbouring': 1, 'districts': 1, 'Thane': 1, 'Palghar': 1, 'yellow': 1, 'warning': 1, '‘': 1, 'thunderstorms': 1, 'lightning': 1, 'moderate': 1, 'gusty': 1, 'winds': 1, '’': 1, 'week': 1, 'ahead': 1, 'July': 1, 'city': 1, 'wettest': 1, 'month': 1, 'year': 1, 'reeling': 1, 'deficit': 1, 'far': 1}\n"
     ]
    }
   ],
   "source": [
    "print(word_frequencies)"
   ]
  },
  {
   "cell_type": "code",
   "execution_count": 12,
   "id": "75483c54-b931-40d3-9674-a12eb4316936",
   "metadata": {},
   "outputs": [],
   "source": [
    "max_frequencies = max(word_frequencies.values())"
   ]
  },
  {
   "cell_type": "code",
   "execution_count": 13,
   "id": "8a5fbde8-a012-44d3-839a-9c13d7a89de2",
   "metadata": {},
   "outputs": [
    {
     "data": {
      "text/plain": [
       "1"
      ]
     },
     "execution_count": 13,
     "metadata": {},
     "output_type": "execute_result"
    }
   ],
   "source": [
    "max_frequencies "
   ]
  },
  {
   "cell_type": "code",
   "execution_count": 14,
   "id": "a9c2b41b-53ed-499e-8bf7-d49966a4a525",
   "metadata": {},
   "outputs": [],
   "source": [
    "# we are going to divide each of the values of the values by 6 (max_frequency)\n",
    "# so the normalized frequencies can be achieved "
   ]
  },
  {
   "cell_type": "code",
   "execution_count": 15,
   "id": "db493c38-29c1-4d66-8339-67cf414c1b04",
   "metadata": {},
   "outputs": [],
   "source": [
    "for word in word_frequencies.keys():\n",
    "    word_frequencies[word] = word_frequencies[word]/max_frequencies"
   ]
  },
  {
   "cell_type": "code",
   "execution_count": 16,
   "id": "92483c33-c37f-4e7a-ab5e-2f000daacae2",
   "metadata": {},
   "outputs": [
    {
     "name": "stdout",
     "output_type": "stream",
     "text": [
      "{'surprise': 1.0, 'spell': 1.0, 'showers': 1.0, 'triggered': 1.0, 'water': 1.0, 'logging': 1.0, 'pockets': 1.0, 'leaving': 1.0, 'office': 1.0, 'goers': 1.0, 'lurch': 1.0, 'Monday': 1.0, 'morning': 1.0, 'pocket': 1.0, 'traffic': 1.0, 'took': 1.0, 'hit': 1.0, 'Andheri': 1.0, 'subway': 1.0, 'shit': 1.0, 'owing': 1.0, 'accumulation': 1.0, 'rain': 1.0, '\\n\\n': 1.0, 'According': 1.0, 'BMC': 1.0, 'automatic': 1.0, 'weather': 1.0, 'station': 1.0, 'heaviest': 1.0, 'downpour': 1.0, 'recorded': 1.0, 'western': 1.0, 'suburbs': 1.0, 'average': 1.0, '50': 1.0, 'mm': 1.0, 'rainfall': 1.0, 'followed': 1.0, '36': 1.0, 'eastern': 1.0, 'Indicating': 1.0, 'revival': 1.0, 'monsoon': 1.0, 'currents': 1.0, 'cards': 1.0, 'IMD': 1.0, 'placed': 1.0, 'Mumbai': 1.0, 'neighbouring': 1.0, 'districts': 1.0, 'Thane': 1.0, 'Palghar': 1.0, 'yellow': 1.0, 'warning': 1.0, '‘': 1.0, 'thunderstorms': 1.0, 'lightning': 1.0, 'moderate': 1.0, 'gusty': 1.0, 'winds': 1.0, '’': 1.0, 'week': 1.0, 'ahead': 1.0, 'July': 1.0, 'city': 1.0, 'wettest': 1.0, 'month': 1.0, 'year': 1.0, 'reeling': 1.0, 'deficit': 1.0, 'far': 1.0}\n"
     ]
    }
   ],
   "source": [
    "print(word_frequencies)\n",
    "# all the word frequencies are normalized"
   ]
  },
  {
   "cell_type": "markdown",
   "id": "a76586f7-d82c-49fb-a51c-d9322b1156bb",
   "metadata": {},
   "source": [
    "Sentence tokenization"
   ]
  },
  {
   "cell_type": "code",
   "execution_count": 17,
   "id": "32175ae3-faf0-48aa-8df2-612c31282a83",
   "metadata": {},
   "outputs": [
    {
     "name": "stdout",
     "output_type": "stream",
     "text": [
      "[The surprise spell of showers triggered water logging in several pockets, leaving office goers in a lurch on Monday morning., Amongst several pocket, traffic took a hit in Andheri subway which was shit owing to accumulation of rain water. \n",
      "\n",
      ", According to the BMC’s automatic weather station, the heaviest downpour was recorded in the western suburbs at an average of 50 mm rainfall, followed by 36 rainfall in the eastern suburbs. \n",
      "\n",
      ", Indicating the revival of monsoon currents on cards, the IMD has placed Mumbai and its neighbouring districts of Thane and Palghar under a yellow warning of ‘thunderstorms, lightning and moderate rain with gusty winds’ in the week ahead. \n",
      "\n",
      ", Even as July is the city’s wettest month of the year, Mumbai was reeling under a rain deficit so far.]\n"
     ]
    }
   ],
   "source": [
    "sentence_tokens= [sent for sent in doc.sents]\n",
    "print(sentence_tokens)"
   ]
  },
  {
   "cell_type": "code",
   "execution_count": 18,
   "id": "3e3b714c-96e0-4eec-ba55-81cd261bc559",
   "metadata": {},
   "outputs": [],
   "source": [
    "# calculate sentence score "
   ]
  },
  {
   "cell_type": "code",
   "execution_count": 19,
   "id": "62c25720-ed03-4b7f-a462-0e241bad9511",
   "metadata": {},
   "outputs": [],
   "source": [
    "sentence_score = {}\n",
    "\n",
    "for sent in sentence_tokens:\n",
    "    for word in sent:\n",
    "        if word.text.lower() in word_frequencies.keys(): # if word_frencies.keys() present there \n",
    "          if sent not in sentence_score.keys():\n",
    "            sentence_score[sent] = word_frequencies[word.text.lower()]\n",
    "          else :\n",
    "            sentence_score[sent]+= word_frequencies[word.text.lower()]"
   ]
  },
  {
   "cell_type": "code",
   "execution_count": 20,
   "id": "caf8afdd-f3ed-45f1-88e8-330fcb7a2ca0",
   "metadata": {},
   "outputs": [
    {
     "name": "stdout",
     "output_type": "stream",
     "text": [
      "{The surprise spell of showers triggered water logging in several pockets, leaving office goers in a lurch on Monday morning.: 12.0, Amongst several pocket, traffic took a hit in Andheri subway which was shit owing to accumulation of rain water. \n",
      "\n",
      ": 11.0, According to the BMC’s automatic weather station, the heaviest downpour was recorded in the western suburbs at an average of 50 mm rainfall, followed by 36 rainfall in the eastern suburbs. \n",
      "\n",
      ": 18.0, Indicating the revival of monsoon currents on cards, the IMD has placed Mumbai and its neighbouring districts of Thane and Palghar under a yellow warning of ‘thunderstorms, lightning and moderate rain with gusty winds’ in the week ahead. \n",
      "\n",
      ": 20.0, Even as July is the city’s wettest month of the year, Mumbai was reeling under a rain deficit so far.: 8.0}\n"
     ]
    }
   ],
   "source": [
    "print(sentence_score)"
   ]
  },
  {
   "cell_type": "markdown",
   "id": "b3c921f9-cef0-4de1-8bce-1d690857713a",
   "metadata": {},
   "source": [
    "Select 30% sentences with maximum score"
   ]
  },
  {
   "cell_type": "code",
   "execution_count": 21,
   "id": "5ed7c305-4bb3-4848-9cb8-49c3d11d9bd2",
   "metadata": {},
   "outputs": [],
   "source": [
    "from heapq import nlargest "
   ]
  },
  {
   "cell_type": "code",
   "execution_count": 22,
   "id": "ea6101c5-a331-4197-90fd-6c7593a2bd3a",
   "metadata": {},
   "outputs": [],
   "source": [
    "select_length = int(len(sentence_tokens))*0.3"
   ]
  },
  {
   "cell_type": "code",
   "execution_count": 23,
   "id": "45c06724-fb1f-4d93-9647-ffc57f0bc92f",
   "metadata": {},
   "outputs": [
    {
     "name": "stdout",
     "output_type": "stream",
     "text": [
      "1.5\n"
     ]
    }
   ],
   "source": [
    "print(select_length)"
   ]
  },
  {
   "cell_type": "code",
   "execution_count": 24,
   "id": "9d4856f4-eef8-45dd-a887-70d11ccc7496",
   "metadata": {},
   "outputs": [],
   "source": [
    "summary = nlargest(n=int(select_length),iterable=sentence_score,key = sentence_score.get)"
   ]
  },
  {
   "cell_type": "code",
   "execution_count": 25,
   "id": "1c907989-6505-41ac-807a-52355e1737c8",
   "metadata": {},
   "outputs": [
    {
     "name": "stdout",
     "output_type": "stream",
     "text": [
      "[Indicating the revival of monsoon currents on cards, the IMD has placed Mumbai and its neighbouring districts of Thane and Palghar under a yellow warning of ‘thunderstorms, lightning and moderate rain with gusty winds’ in the week ahead. \n",
      "\n",
      "]\n"
     ]
    }
   ],
   "source": [
    "print(summary)"
   ]
  },
  {
   "cell_type": "code",
   "execution_count": null,
   "id": "09af078a-a922-4c8b-b1d0-4523dcf7d498",
   "metadata": {},
   "outputs": [],
   "source": [
    "#combine these sentences together"
   ]
  },
  {
   "cell_type": "code",
   "execution_count": 26,
   "id": "c139f27e-7eb8-4920-a36e-718eabc93f56",
   "metadata": {},
   "outputs": [],
   "source": [
    "final_summary=[word.text for word in summary]"
   ]
  },
  {
   "cell_type": "code",
   "execution_count": 27,
   "id": "8b9c0445-2985-4d42-be52-6a8398eb4c67",
   "metadata": {},
   "outputs": [
    {
     "data": {
      "text/plain": [
       "['Indicating the revival of monsoon currents on cards, the IMD has placed Mumbai and its neighbouring districts of Thane and Palghar under a yellow warning of ‘thunderstorms, lightning and moderate rain with gusty winds’ in the week ahead. \\n\\n']"
      ]
     },
     "execution_count": 27,
     "metadata": {},
     "output_type": "execute_result"
    }
   ],
   "source": [
    "final_summary"
   ]
  },
  {
   "cell_type": "code",
   "execution_count": 28,
   "id": "6c49b1d3-e1c4-4f41-b4ab-ff6843f5c7fb",
   "metadata": {},
   "outputs": [],
   "source": [
    "summary=' '.join(final_summary)"
   ]
  },
  {
   "cell_type": "code",
   "execution_count": 29,
   "id": "2d94cbe6-64da-4721-9395-f7b42c396e43",
   "metadata": {},
   "outputs": [
    {
     "name": "stdout",
     "output_type": "stream",
     "text": [
      "Indicating the revival of monsoon currents on cards, the IMD has placed Mumbai and its neighbouring districts of Thane and Palghar under a yellow warning of ‘thunderstorms, lightning and moderate rain with gusty winds’ in the week ahead. \n",
      "\n",
      "\n"
     ]
    }
   ],
   "source": [
    "print(summary)"
   ]
  },
  {
   "cell_type": "code",
   "execution_count": 30,
   "id": "76873fa6-0d69-4916-87a4-f28eeb0730b0",
   "metadata": {},
   "outputs": [],
   "source": [
    "#compare length of original text and summary"
   ]
  },
  {
   "cell_type": "code",
   "execution_count": 31,
   "id": "c4c4c5aa-cdd1-43bd-907d-51054607f41c",
   "metadata": {},
   "outputs": [
    {
     "data": {
      "text/plain": [
       "773"
      ]
     },
     "execution_count": 31,
     "metadata": {},
     "output_type": "execute_result"
    }
   ],
   "source": [
    "len(text) #length of original text"
   ]
  },
  {
   "cell_type": "code",
   "execution_count": 32,
   "id": "0f4a7d85-97be-4beb-90b8-7df4c13ffae1",
   "metadata": {},
   "outputs": [
    {
     "data": {
      "text/plain": [
       "240"
      ]
     },
     "execution_count": 32,
     "metadata": {},
     "output_type": "execute_result"
    }
   ],
   "source": [
    "len(summary)"
   ]
  },
  {
   "cell_type": "code",
   "execution_count": null,
   "id": "67c68f22-d8c0-4d50-9ece-d113ba49ee28",
   "metadata": {},
   "outputs": [],
   "source": []
  }
 ],
 "metadata": {
  "kernelspec": {
   "display_name": "Python 3 (ipykernel)",
   "language": "python",
   "name": "python3"
  },
  "language_info": {
   "codemirror_mode": {
    "name": "ipython",
    "version": 3
   },
   "file_extension": ".py",
   "mimetype": "text/x-python",
   "name": "python",
   "nbconvert_exporter": "python",
   "pygments_lexer": "ipython3",
   "version": "3.12.9"
  }
 },
 "nbformat": 4,
 "nbformat_minor": 5
}
