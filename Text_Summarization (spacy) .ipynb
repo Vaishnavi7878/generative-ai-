{
 "cells": [
  {
   "cell_type": "markdown",
   "id": "3841a524-5ef2-409e-9665-204fd3684bbd",
   "metadata": {},
   "source": [
    "importing the libraries and dataset "
   ]
  },
  {
   "cell_type": "code",
   "execution_count": 1,
   "id": "e40429c2-982f-4c48-a077-52a1e3dee5e0",
   "metadata": {},
   "outputs": [],
   "source": [
    "import spacy \n",
    "from spacy.lang.en.stop_words import STOP_WORDS \n",
    "from string import punctuation "
   ]
  },
  {
   "cell_type": "code",
   "execution_count": 2,
   "id": "bd0b7690-85ee-44b8-a6be-e393136cf993",
   "metadata": {},
   "outputs": [],
   "source": [
    "nlp = spacy.load('en_core_web_sm')\n",
    "                 "
   ]
  },
  {
   "cell_type": "code",
   "execution_count": 3,
   "id": "33197e83-3a6c-4a2f-b000-7e0acb7cc26b",
   "metadata": {},
   "outputs": [],
   "source": [
    "text =\"\"\" Maria Sharapova has basically no friends as tennis players on the WTA Tour. The Russian player has no problems in openly speaking about it and in a recent interview she said: ‘I don’t really hide any feelings too much.\n",
    "I think everyone knows this is my job here. When I’m on the courts or when I’m on the court playing, I’m a competitor and I want to beat every single person whether they’re in the locker room or across the net.\n",
    "So I’m not the one to strike up a conversation about the weather and know that in the next few minutes I have to go and try to win a tennis match.\n",
    "I’m a pretty competitive girl. I say my hellos, but I’m not sending any players flowers as well. Uhm, I’m not really friendly or close to many players.\n",
    "I have not a lot of friends away from the courts.’ When she said she is not really close to a lot of players, is that something strategic that she is doing? Is it different on the men’s tour than the women’s tour? ‘No, not at all.\n",
    "I think just because you’re in the same sport doesn’t mean that you have to be friends with everyone just because you’re categorized, you’re a tennis player, so you’re going to get along with tennis players.\n",
    "I think every person has different interests. I have friends that have completely different jobs and interests, and I’ve met them in very different parts of my life.\n",
    "I think everyone just thinks because we’re tennis players we should be the greatest of friends. But ultimately tennis is just a very small part of what we do.\n",
    "There are so many other things that we’re interested in, that we do. \"\"\""
   ]
  },
  {
   "cell_type": "code",
   "execution_count": 4,
   "id": "977914dc-0b83-4168-a6b4-d8366b0ff413",
   "metadata": {},
   "outputs": [],
   "source": [
    "stopwords = list(STOP_WORDS)\n"
   ]
  },
  {
   "cell_type": "code",
   "execution_count": 5,
   "id": "47b35d8e-9a78-4c85-9eeb-3ce0a1b24627",
   "metadata": {},
   "outputs": [],
   "source": [
    "doc = nlp(text) # appliled tokenization"
   ]
  },
  {
   "cell_type": "code",
   "execution_count": 6,
   "id": "13d9f223-cfe6-4b9a-ae60-f481de277193",
   "metadata": {},
   "outputs": [
    {
     "name": "stdout",
     "output_type": "stream",
     "text": [
      "[' ', 'Maria', 'Sharapova', 'has', 'basically', 'no', 'friends', 'as', 'tennis', 'players', 'on', 'the', 'WTA', 'Tour', '.', 'The', 'Russian', 'player', 'has', 'no', 'problems', 'in', 'openly', 'speaking', 'about', 'it', 'and', 'in', 'a', 'recent', 'interview', 'she', 'said', ':', '‘', 'I', 'do', 'n’t', 'really', 'hide', 'any', 'feelings', 'too', 'much', '.', '\\n', 'I', 'think', 'everyone', 'knows', 'this', 'is', 'my', 'job', 'here', '.', 'When', 'I', '’m', 'on', 'the', 'courts', 'or', 'when', 'I', '’m', 'on', 'the', 'court', 'playing', ',', 'I', '’m', 'a', 'competitor', 'and', 'I', 'want', 'to', 'beat', 'every', 'single', 'person', 'whether', 'they', '’re', 'in', 'the', 'locker', 'room', 'or', 'across', 'the', 'net', '.', '\\n', 'So', 'I', '’m', 'not', 'the', 'one', 'to', 'strike', 'up', 'a', 'conversation', 'about', 'the', 'weather', 'and', 'know', 'that', 'in', 'the', 'next', 'few', 'minutes', 'I', 'have', 'to', 'go', 'and', 'try', 'to', 'win', 'a', 'tennis', 'match', '.', '\\n', 'I', '’m', 'a', 'pretty', 'competitive', 'girl', '.', 'I', 'say', 'my', 'hellos', ',', 'but', 'I', '’m', 'not', 'sending', 'any', 'players', 'flowers', 'as', 'well', '.', 'Uhm', ',', 'I', '’m', 'not', 'really', 'friendly', 'or', 'close', 'to', 'many', 'players', '.', '\\n', 'I', 'have', 'not', 'a', 'lot', 'of', 'friends', 'away', 'from', 'the', 'courts', '.', '’', 'When', 'she', 'said', 'she', 'is', 'not', 'really', 'close', 'to', 'a', 'lot', 'of', 'players', ',', 'is', 'that', 'something', 'strategic', 'that', 'she', 'is', 'doing', '?', 'Is', 'it', 'different', 'on', 'the', 'men', '’s', 'tour', 'than', 'the', 'women', '’s', 'tour', '?', '‘', 'No', ',', 'not', 'at', 'all', '.', '\\n', 'I', 'think', 'just', 'because', 'you', '’re', 'in', 'the', 'same', 'sport', 'does', 'n’t', 'mean', 'that', 'you', 'have', 'to', 'be', 'friends', 'with', 'everyone', 'just', 'because', 'you', '’re', 'categorized', ',', 'you', '’re', 'a', 'tennis', 'player', ',', 'so', 'you', '’re', 'going', 'to', 'get', 'along', 'with', 'tennis', 'players', '.', '\\n', 'I', 'think', 'every', 'person', 'has', 'different', 'interests', '.', 'I', 'have', 'friends', 'that', 'have', 'completely', 'different', 'jobs', 'and', 'interests', ',', 'and', 'I', '’ve', 'met', 'them', 'in', 'very', 'different', 'parts', 'of', 'my', 'life', '.', '\\n', 'I', 'think', 'everyone', 'just', 'thinks', 'because', 'we', '’re', 'tennis', 'players', 'we', 'should', 'be', 'the', 'greatest', 'of', 'friends', '.', 'But', 'ultimately', 'tennis', 'is', 'just', 'a', 'very', 'small', 'part', 'of', 'what', 'we', 'do', '.', '\\n', 'There', 'are', 'so', 'many', 'other', 'things', 'that', 'we', '’re', 'interested', 'in', ',', 'that', 'we', 'do', '.']\n"
     ]
    }
   ],
   "source": [
    "tokens = [token.text for token in doc]\n",
    "print(tokens)\n"
   ]
  },
  {
   "cell_type": "code",
   "execution_count": 7,
   "id": "fb2af051-30aa-4ae8-a086-094572194ed6",
   "metadata": {},
   "outputs": [],
   "source": [
    "# add new line (\\n) to punctuation \n",
    "punctuation = punctuation + '\\n'"
   ]
  },
  {
   "cell_type": "code",
   "execution_count": 8,
   "id": "57add4a8-d48f-4324-953b-169158fc3dd9",
   "metadata": {},
   "outputs": [
    {
     "data": {
      "text/plain": [
       "'!\"#$%&\\'()*+,-./:;<=>?@[\\\\]^_`{|}~\\n'"
      ]
     },
     "execution_count": 8,
     "metadata": {},
     "output_type": "execute_result"
    }
   ],
   "source": [
    "punctuation"
   ]
  },
  {
   "cell_type": "markdown",
   "id": "e54b0c58-bbd2-46c9-93ee-9bf13af06af9",
   "metadata": {},
   "source": [
    "2) text cleaning "
   ]
  },
  {
   "cell_type": "code",
   "execution_count": 9,
   "id": "dfbb67ca-0f85-4677-aa1b-77a953639e10",
   "metadata": {},
   "outputs": [],
   "source": [
    "word_frequencies = {}\n",
    "\n",
    "for word in doc:\n",
    "  if word.text.lower() not in stopwords:\n",
    "    if word.text.lower() not in punctuation:\n",
    "      if word.text not in word_frequencies.keys():\n",
    "          word_frequencies[word.text] = 1 "
   ]
  },
  {
   "cell_type": "code",
   "execution_count": 10,
   "id": "93ce1e98-6906-49a3-80de-58a258c8fcf2",
   "metadata": {},
   "outputs": [
    {
     "name": "stdout",
     "output_type": "stream",
     "text": [
      "{' ': 1, 'Maria': 1, 'Sharapova': 1, 'basically': 1, 'friends': 1, 'tennis': 1, 'players': 1, 'WTA': 1, 'Tour': 1, 'Russian': 1, 'player': 1, 'problems': 1, 'openly': 1, 'speaking': 1, 'recent': 1, 'interview': 1, 'said': 1, '‘': 1, 'hide': 1, 'feelings': 1, 'think': 1, 'knows': 1, 'job': 1, 'courts': 1, 'court': 1, 'playing': 1, 'competitor': 1, 'want': 1, 'beat': 1, 'single': 1, 'person': 1, 'locker': 1, 'room': 1, 'net': 1, 'strike': 1, 'conversation': 1, 'weather': 1, 'know': 1, 'minutes': 1, 'try': 1, 'win': 1, 'match': 1, 'pretty': 1, 'competitive': 1, 'girl': 1, 'hellos': 1, 'sending': 1, 'flowers': 1, 'Uhm': 1, 'friendly': 1, 'close': 1, 'lot': 1, 'away': 1, '’': 1, 'strategic': 1, 'different': 1, 'men': 1, 'tour': 1, 'women': 1, 'sport': 1, 'mean': 1, 'categorized': 1, 'going': 1, 'interests': 1, 'completely': 1, 'jobs': 1, 'met': 1, 'parts': 1, 'life': 1, 'thinks': 1, 'greatest': 1, 'ultimately': 1, 'small': 1, 'things': 1, 'interested': 1}\n"
     ]
    }
   ],
   "source": [
    "print(word_frequencies)\n"
   ]
  },
  {
   "cell_type": "code",
   "execution_count": 11,
   "id": "a62ddf53-dd08-447a-b78f-b980b684748b",
   "metadata": {},
   "outputs": [],
   "source": [
    "max_frequencies = max(word_frequencies.values())"
   ]
  },
  {
   "cell_type": "code",
   "execution_count": 12,
   "id": "a18293b7-a02b-4b0f-8938-10fe37562135",
   "metadata": {},
   "outputs": [
    {
     "data": {
      "text/plain": [
       "1"
      ]
     },
     "execution_count": 12,
     "metadata": {},
     "output_type": "execute_result"
    }
   ],
   "source": [
    "max_frequencies "
   ]
  },
  {
   "cell_type": "code",
   "execution_count": 13,
   "id": "4a89b2b1-6b6a-40e1-b7a5-c84376052cd6",
   "metadata": {},
   "outputs": [],
   "source": [
    "# we are going to divide each of the values of the values by 6 (max_frequency)\n",
    "# so the normalized frequencies can be achieved "
   ]
  },
  {
   "cell_type": "code",
   "execution_count": 17,
   "id": "21979567-a398-4113-a6b1-9fadf3ac2904",
   "metadata": {},
   "outputs": [],
   "source": [
    "for word in word_frequencies.keys():\n",
    "    word_frequencies[word] = word_frequencies[word]/max_frequencies"
   ]
  },
  {
   "cell_type": "code",
   "execution_count": 18,
   "id": "26e4b3f1-b642-4372-ab60-4586e3a4b93d",
   "metadata": {},
   "outputs": [
    {
     "name": "stdout",
     "output_type": "stream",
     "text": [
      "{' ': 1.0, 'Maria': 1.0, 'Sharapova': 1.0, 'basically': 1.0, 'friends': 1.0, 'tennis': 1.0, 'players': 1.0, 'WTA': 1.0, 'Tour': 1.0, 'Russian': 1.0, 'player': 1.0, 'problems': 1.0, 'openly': 1.0, 'speaking': 1.0, 'recent': 1.0, 'interview': 1.0, 'said': 1.0, '‘': 1.0, 'hide': 1.0, 'feelings': 1.0, 'think': 1.0, 'knows': 1.0, 'job': 1.0, 'courts': 1.0, 'court': 1.0, 'playing': 1.0, 'competitor': 1.0, 'want': 1.0, 'beat': 1.0, 'single': 1.0, 'person': 1.0, 'locker': 1.0, 'room': 1.0, 'net': 1.0, 'strike': 1.0, 'conversation': 1.0, 'weather': 1.0, 'know': 1.0, 'minutes': 1.0, 'try': 1.0, 'win': 1.0, 'match': 1.0, 'pretty': 1.0, 'competitive': 1.0, 'girl': 1.0, 'hellos': 1.0, 'sending': 1.0, 'flowers': 1.0, 'Uhm': 1.0, 'friendly': 1.0, 'close': 1.0, 'lot': 1.0, 'away': 1.0, '’': 1.0, 'strategic': 1.0, 'different': 1.0, 'men': 1.0, 'tour': 1.0, 'women': 1.0, 'sport': 1.0, 'mean': 1.0, 'categorized': 1.0, 'going': 1.0, 'interests': 1.0, 'completely': 1.0, 'jobs': 1.0, 'met': 1.0, 'parts': 1.0, 'life': 1.0, 'thinks': 1.0, 'greatest': 1.0, 'ultimately': 1.0, 'small': 1.0, 'things': 1.0, 'interested': 1.0}\n"
     ]
    }
   ],
   "source": [
    "print(word_frequencies)\n",
    "# all the word frequencies are normalized"
   ]
  },
  {
   "cell_type": "markdown",
   "id": "a160d18e-4c82-423d-a591-e9be61bca151",
   "metadata": {},
   "source": [
    "3) Sentence tokenization "
   ]
  },
  {
   "cell_type": "code",
   "execution_count": 19,
   "id": "d985751a-ab77-4cfd-a88c-8693ca105fb2",
   "metadata": {},
   "outputs": [
    {
     "name": "stdout",
     "output_type": "stream",
     "text": [
      "[ Maria Sharapova has basically no friends as tennis players on the WTA Tour., The Russian player has no problems in openly speaking about it and in a recent interview she said: ‘I don’t really hide any feelings too much.\n",
      ", I think everyone knows this is my job here., When I’m on the courts or when I’m on the court playing, I’m a competitor, and I want to beat every single person whether they’re in the locker room or across the net.\n",
      ", So I’m not the one to strike up a conversation about the weather and know that in the next few minutes I have to go and try to win a tennis match.\n",
      ", I’m a pretty competitive girl., I say my hellos, but I’m not sending any players flowers as well., Uhm, I’m not really friendly or close to many players.\n",
      ", I have not a lot of friends away from the courts.’, When she said she is not really close to a lot of players, is that something strategic that she is doing?, Is it different on the men’s tour than the women’s tour?, ‘No, not at all.\n",
      ", I think just because you’re in the same sport doesn’t mean that you have to be friends with everyone just because you’re categorized, you’re a tennis player, so you’re going to get along with tennis players.\n",
      ", I think every person has different interests., I have friends that have completely different jobs and interests, and I’ve met them in very different parts of my life.\n",
      ", I think everyone just thinks because we’re tennis players we should be the greatest of friends., But ultimately tennis is just a very small part of what we do.\n",
      ", There are so many other things that we’re interested in, that we do.]\n"
     ]
    }
   ],
   "source": [
    "sentence_tokens= [sent for sent in doc.sents]\n",
    "print(sentence_tokens)"
   ]
  },
  {
   "cell_type": "code",
   "execution_count": null,
   "id": "eba65931-e71a-47cb-b5c7-abdf6ee9dbd7",
   "metadata": {},
   "outputs": [],
   "source": [
    "# calculate sentence score "
   ]
  },
  {
   "cell_type": "code",
   "execution_count": 20,
   "id": "3c350bb3-26cb-4907-9944-049a0b6c40a1",
   "metadata": {},
   "outputs": [],
   "source": [
    "sentence_score = {}\n",
    "\n",
    "for sent in sentence_tokens:\n",
    "    for word in sent:\n",
    "        if word.text.lower() in word_frequencies.keys(): # if word_frencies.keys() present there \n",
    "          if sent not in sentence_score.keys():\n",
    "            sentence_score[sent] = word_frequencies[word.text.lower()]\n",
    "          else :\n",
    "            sentence_score[sent]+= word_frequencies[word.text.lower()]"
   ]
  },
  {
   "cell_type": "code",
   "execution_count": 21,
   "id": "f7eec7bc-6512-4e4e-bc80-ab2974a47ce7",
   "metadata": {},
   "outputs": [
    {
     "name": "stdout",
     "output_type": "stream",
     "text": [
      "{ Maria Sharapova has basically no friends as tennis players on the WTA Tour.: 6.0, The Russian player has no problems in openly speaking about it and in a recent interview she said: ‘I don’t really hide any feelings too much.\n",
      ": 10.0, I think everyone knows this is my job here.: 3.0, When I’m on the courts or when I’m on the court playing, I’m a competitor: 4.0, and I want to beat every single person whether they’re in the locker room or across the net.\n",
      ": 7.0, So I’m not the one to strike up a conversation about the weather and know that in the next few minutes I have to go and try to win a tennis match.\n",
      ": 9.0, I’m a pretty competitive girl.: 3.0, I say my hellos, but I’m not sending any players flowers as well.: 4.0, Uhm, I’m not really friendly or close to many players.\n",
      ": 3.0, I have not a lot of friends away from the courts.’: 5.0, When she said she is not really close to a lot of players, is that something strategic that she is doing?: 5.0, Is it different on the men’s tour than the women’s tour?: 5.0, ‘No, not at all.\n",
      ": 1.0, I think just because you’re in the same sport doesn’t mean that you have to be friends with everyone just because you’re categorized, you’re a tennis player, so you’re going to get along with tennis players.\n",
      ": 10.0, I think every person has different interests.: 4.0, I have friends that have completely different jobs and interests, and I’ve met them in very different parts of my life.\n",
      ": 9.0, I think everyone just thinks because we’re tennis players we should be the greatest of friends.: 6.0, But ultimately tennis is just a very small part of what we do.\n",
      ": 3.0, There are so many other things that we’re interested in, that we do.: 2.0}\n"
     ]
    }
   ],
   "source": [
    "print(sentence_score)"
   ]
  },
  {
   "cell_type": "markdown",
   "id": "0abddb7f-1da2-4582-afd6-76777523bce2",
   "metadata": {},
   "source": [
    "Select 30% sentences with maximum score"
   ]
  },
  {
   "cell_type": "code",
   "execution_count": 22,
   "id": "ffaafa5d-d3c0-45c6-9f7c-ca8b4d90f206",
   "metadata": {},
   "outputs": [],
   "source": [
    "from heapq import nlargest "
   ]
  },
  {
   "cell_type": "code",
   "execution_count": 23,
   "id": "a0c5b74f-c488-4af1-b8a2-d655802438b4",
   "metadata": {},
   "outputs": [],
   "source": [
    "select_length = int(len(sentence_tokens))*0.3"
   ]
  },
  {
   "cell_type": "code",
   "execution_count": 24,
   "id": "33df4524-4cee-4911-befc-dd5bba8f2acc",
   "metadata": {},
   "outputs": [
    {
     "name": "stdout",
     "output_type": "stream",
     "text": [
      "5.7\n"
     ]
    }
   ],
   "source": [
    "print(select_length)"
   ]
  },
  {
   "cell_type": "code",
   "execution_count": 25,
   "id": "5dc8599e-e5e3-4094-823c-fe848dfde804",
   "metadata": {},
   "outputs": [],
   "source": [
    "summary = nlargest(n=int(select_length),iterable=sentence_score,key = sentence_score.get)"
   ]
  },
  {
   "cell_type": "code",
   "execution_count": 26,
   "id": "2577e7fe-db6d-4521-8df9-ebfda7fc8e70",
   "metadata": {},
   "outputs": [
    {
     "name": "stdout",
     "output_type": "stream",
     "text": [
      "[The Russian player has no problems in openly speaking about it and in a recent interview she said: ‘I don’t really hide any feelings too much.\n",
      ", I think just because you’re in the same sport doesn’t mean that you have to be friends with everyone just because you’re categorized, you’re a tennis player, so you’re going to get along with tennis players.\n",
      ", So I’m not the one to strike up a conversation about the weather and know that in the next few minutes I have to go and try to win a tennis match.\n",
      ", I have friends that have completely different jobs and interests, and I’ve met them in very different parts of my life.\n",
      ", and I want to beat every single person whether they’re in the locker room or across the net.\n",
      "]\n"
     ]
    }
   ],
   "source": [
    "# here we have sellected 8 sentences\n",
    "print(summary)"
   ]
  },
  {
   "cell_type": "code",
   "execution_count": null,
   "id": "fc1b1bcc-e598-496a-b3c7-8de649c6e568",
   "metadata": {},
   "outputs": [],
   "source": [
    "#combine these sentences together"
   ]
  },
  {
   "cell_type": "code",
   "execution_count": 27,
   "id": "3069fdff-01cd-429d-b908-d7ffabcbd0b4",
   "metadata": {},
   "outputs": [],
   "source": [
    "final_summary=[word.text for word in summary]"
   ]
  },
  {
   "cell_type": "code",
   "execution_count": 28,
   "id": "2a429fd3-5bcc-49c7-bdc4-2592d9172c20",
   "metadata": {},
   "outputs": [
    {
     "data": {
      "text/plain": [
       "['The Russian player has no problems in openly speaking about it and in a recent interview she said: ‘I don’t really hide any feelings too much.\\n',\n",
       " 'I think just because you’re in the same sport doesn’t mean that you have to be friends with everyone just because you’re categorized, you’re a tennis player, so you’re going to get along with tennis players.\\n',\n",
       " 'So I’m not the one to strike up a conversation about the weather and know that in the next few minutes I have to go and try to win a tennis match.\\n',\n",
       " 'I have friends that have completely different jobs and interests, and I’ve met them in very different parts of my life.\\n',\n",
       " 'and I want to beat every single person whether they’re in the locker room or across the net.\\n']"
      ]
     },
     "execution_count": 28,
     "metadata": {},
     "output_type": "execute_result"
    }
   ],
   "source": [
    "final_summary"
   ]
  },
  {
   "cell_type": "code",
   "execution_count": 29,
   "id": "3a446c22-f7d1-47d6-bff0-2dd662710bb9",
   "metadata": {},
   "outputs": [],
   "source": [
    "summary=' '.join(final_summary)"
   ]
  },
  {
   "cell_type": "code",
   "execution_count": 30,
   "id": "b114fa4f-b665-4bc4-8bc4-334875721455",
   "metadata": {},
   "outputs": [
    {
     "name": "stdout",
     "output_type": "stream",
     "text": [
      "The Russian player has no problems in openly speaking about it and in a recent interview she said: ‘I don’t really hide any feelings too much.\n",
      " I think just because you’re in the same sport doesn’t mean that you have to be friends with everyone just because you’re categorized, you’re a tennis player, so you’re going to get along with tennis players.\n",
      " So I’m not the one to strike up a conversation about the weather and know that in the next few minutes I have to go and try to win a tennis match.\n",
      " I have friends that have completely different jobs and interests, and I’ve met them in very different parts of my life.\n",
      " and I want to beat every single person whether they’re in the locker room or across the net.\n",
      "\n"
     ]
    }
   ],
   "source": [
    "print(summary)"
   ]
  },
  {
   "cell_type": "code",
   "execution_count": null,
   "id": "96219a0c-93ad-4222-a5b1-612992ee59cf",
   "metadata": {},
   "outputs": [],
   "source": [
    "#compare length of original text and summary"
   ]
  },
  {
   "cell_type": "code",
   "execution_count": 31,
   "id": "2845a634-7d82-4f91-b894-a0e627f66e91",
   "metadata": {},
   "outputs": [
    {
     "data": {
      "text/plain": [
       "1563"
      ]
     },
     "execution_count": 31,
     "metadata": {},
     "output_type": "execute_result"
    }
   ],
   "source": [
    "len(text) #length of original text"
   ]
  },
  {
   "cell_type": "code",
   "execution_count": 32,
   "id": "f9421a53-a961-4f71-964b-8349e1b95a28",
   "metadata": {},
   "outputs": [
    {
     "data": {
      "text/plain": [
       "715"
      ]
     },
     "execution_count": 32,
     "metadata": {},
     "output_type": "execute_result"
    }
   ],
   "source": [
    "len(summary)"
   ]
  },
  {
   "cell_type": "code",
   "execution_count": null,
   "id": "7ebce584-bb5b-4e51-98bb-9f835c8c6821",
   "metadata": {},
   "outputs": [],
   "source": []
  }
 ],
 "metadata": {
  "kernelspec": {
   "display_name": "Python 3 (ipykernel)",
   "language": "python",
   "name": "python3"
  },
  "language_info": {
   "codemirror_mode": {
    "name": "ipython",
    "version": 3
   },
   "file_extension": ".py",
   "mimetype": "text/x-python",
   "name": "python",
   "nbconvert_exporter": "python",
   "pygments_lexer": "ipython3",
   "version": "3.12.9"
  }
 },
 "nbformat": 4,
 "nbformat_minor": 5
}
